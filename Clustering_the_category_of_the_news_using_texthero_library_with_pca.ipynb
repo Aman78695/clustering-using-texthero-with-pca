{
  "nbformat": 4,
  "nbformat_minor": 0,
  "metadata": {
    "colab": {
      "provenance": [],
      "authorship_tag": "ABX9TyMkUL5RoCx+lQ2jVDOBR2yY",
      "include_colab_link": true
    },
    "kernelspec": {
      "name": "python3",
      "display_name": "Python 3"
    },
    "language_info": {
      "name": "python"
    }
  },
  "cells": [
    {
      "cell_type": "markdown",
      "metadata": {
        "id": "view-in-github",
        "colab_type": "text"
      },
      "source": [
        "<a href=\"https://colab.research.google.com/github/Aman78695/clustering-using-texthero-with-pca/blob/main/Clustering_the_category_of_the_news_using_texthero_library_with_pca.ipynb\" target=\"_parent\"><img src=\"https://colab.research.google.com/assets/colab-badge.svg\" alt=\"Open In Colab\"/></a>"
      ]
    },
    {
      "cell_type": "code",
      "execution_count": 13,
      "metadata": {
        "colab": {
          "base_uri": "https://localhost:8080/"
        },
        "id": "9m78m9LaT12X",
        "outputId": "a09426c3-1056-4dd3-8bfb-57a669c4dba9"
      },
      "outputs": [
        {
          "output_type": "stream",
          "name": "stdout",
          "text": [
            "Looking in indexes: https://pypi.org/simple, https://us-python.pkg.dev/colab-wheels/public/simple/\n",
            "Requirement already satisfied: texthero in /usr/local/lib/python3.8/dist-packages (1.1.0)\n",
            "Requirement already satisfied: wordcloud>=1.5.0 in /usr/local/lib/python3.8/dist-packages (from texthero) (1.8.2.2)\n",
            "Requirement already satisfied: unidecode>=1.1.1 in /usr/local/lib/python3.8/dist-packages (from texthero) (1.3.6)\n",
            "Requirement already satisfied: gensim<4.0,>=3.6.0 in /usr/local/lib/python3.8/dist-packages (from texthero) (3.6.0)\n",
            "Requirement already satisfied: nltk>=3.3 in /usr/local/lib/python3.8/dist-packages (from texthero) (3.7)\n",
            "Collecting spacy<3.0.0\n",
            "  Using cached spacy-2.3.9-cp38-cp38-manylinux_2_17_x86_64.manylinux2014_x86_64.whl (5.0 MB)\n",
            "Requirement already satisfied: plotly>=4.2.0 in /usr/local/lib/python3.8/dist-packages (from texthero) (5.5.0)\n",
            "Requirement already satisfied: tqdm>=4.3 in /usr/local/lib/python3.8/dist-packages (from texthero) (4.64.1)\n",
            "Requirement already satisfied: pandas>=1.0.2 in /usr/local/lib/python3.8/dist-packages (from texthero) (1.3.5)\n",
            "Requirement already satisfied: scikit-learn>=0.22 in /usr/local/lib/python3.8/dist-packages (from texthero) (1.0.2)\n",
            "Requirement already satisfied: numpy>=1.17 in /usr/local/lib/python3.8/dist-packages (from texthero) (1.21.6)\n",
            "Requirement already satisfied: matplotlib>=3.1.0 in /usr/local/lib/python3.8/dist-packages (from texthero) (3.2.2)\n",
            "Requirement already satisfied: scipy>=0.18.1 in /usr/local/lib/python3.8/dist-packages (from gensim<4.0,>=3.6.0->texthero) (1.7.3)\n",
            "Requirement already satisfied: smart-open>=1.2.1 in /usr/local/lib/python3.8/dist-packages (from gensim<4.0,>=3.6.0->texthero) (6.3.0)\n",
            "Requirement already satisfied: six>=1.5.0 in /usr/local/lib/python3.8/dist-packages (from gensim<4.0,>=3.6.0->texthero) (1.15.0)\n",
            "Requirement already satisfied: pyparsing!=2.0.4,!=2.1.2,!=2.1.6,>=2.0.1 in /usr/local/lib/python3.8/dist-packages (from matplotlib>=3.1.0->texthero) (3.0.9)\n",
            "Requirement already satisfied: python-dateutil>=2.1 in /usr/local/lib/python3.8/dist-packages (from matplotlib>=3.1.0->texthero) (2.8.2)\n",
            "Requirement already satisfied: cycler>=0.10 in /usr/local/lib/python3.8/dist-packages (from matplotlib>=3.1.0->texthero) (0.11.0)\n",
            "Requirement already satisfied: kiwisolver>=1.0.1 in /usr/local/lib/python3.8/dist-packages (from matplotlib>=3.1.0->texthero) (1.4.4)\n",
            "Requirement already satisfied: regex>=2021.8.3 in /usr/local/lib/python3.8/dist-packages (from nltk>=3.3->texthero) (2022.6.2)\n",
            "Requirement already satisfied: joblib in /usr/local/lib/python3.8/dist-packages (from nltk>=3.3->texthero) (1.2.0)\n",
            "Requirement already satisfied: click in /usr/local/lib/python3.8/dist-packages (from nltk>=3.3->texthero) (7.1.2)\n",
            "Requirement already satisfied: pytz>=2017.3 in /usr/local/lib/python3.8/dist-packages (from pandas>=1.0.2->texthero) (2022.7.1)\n",
            "Requirement already satisfied: tenacity>=6.2.0 in /usr/local/lib/python3.8/dist-packages (from plotly>=4.2.0->texthero) (8.2.0)\n",
            "Requirement already satisfied: threadpoolctl>=2.0.0 in /usr/local/lib/python3.8/dist-packages (from scikit-learn>=0.22->texthero) (3.1.0)\n",
            "Collecting srsly<1.1.0,>=1.0.2\n",
            "  Using cached srsly-1.0.6-cp38-cp38-manylinux_2_17_x86_64.manylinux2014_x86_64.whl (211 kB)\n",
            "Requirement already satisfied: murmurhash<1.1.0,>=0.28.0 in /usr/local/lib/python3.8/dist-packages (from spacy<3.0.0->texthero) (1.0.9)\n",
            "Requirement already satisfied: setuptools in /usr/local/lib/python3.8/dist-packages (from spacy<3.0.0->texthero) (57.4.0)\n",
            "Requirement already satisfied: blis<0.8.0,>=0.4.0 in /usr/local/lib/python3.8/dist-packages (from spacy<3.0.0->texthero) (0.7.9)\n",
            "Collecting catalogue<1.1.0,>=0.0.7\n",
            "  Using cached catalogue-1.0.2-py2.py3-none-any.whl (16 kB)\n",
            "Collecting thinc<7.5.0,>=7.4.1\n",
            "  Using cached thinc-7.4.6-cp38-cp38-manylinux_2_17_x86_64.manylinux2014_x86_64.whl (1.1 MB)\n",
            "Requirement already satisfied: preshed<3.1.0,>=3.0.2 in /usr/local/lib/python3.8/dist-packages (from spacy<3.0.0->texthero) (3.0.8)\n",
            "Requirement already satisfied: wasabi<1.1.0,>=0.4.0 in /usr/local/lib/python3.8/dist-packages (from spacy<3.0.0->texthero) (0.10.1)\n",
            "Requirement already satisfied: requests<3.0.0,>=2.13.0 in /usr/local/lib/python3.8/dist-packages (from spacy<3.0.0->texthero) (2.25.1)\n",
            "Requirement already satisfied: cymem<2.1.0,>=2.0.2 in /usr/local/lib/python3.8/dist-packages (from spacy<3.0.0->texthero) (2.0.7)\n",
            "Requirement already satisfied: plac<1.2.0,>=0.9.6 in /usr/local/lib/python3.8/dist-packages (from spacy<3.0.0->texthero) (1.1.3)\n",
            "Requirement already satisfied: pillow in /usr/local/lib/python3.8/dist-packages (from wordcloud>=1.5.0->texthero) (7.1.2)\n",
            "Requirement already satisfied: certifi>=2017.4.17 in /usr/local/lib/python3.8/dist-packages (from requests<3.0.0,>=2.13.0->spacy<3.0.0->texthero) (2022.12.7)\n",
            "Requirement already satisfied: urllib3<1.27,>=1.21.1 in /usr/local/lib/python3.8/dist-packages (from requests<3.0.0,>=2.13.0->spacy<3.0.0->texthero) (1.24.3)\n",
            "Requirement already satisfied: idna<3,>=2.5 in /usr/local/lib/python3.8/dist-packages (from requests<3.0.0,>=2.13.0->spacy<3.0.0->texthero) (2.10)\n",
            "Requirement already satisfied: chardet<5,>=3.0.2 in /usr/local/lib/python3.8/dist-packages (from requests<3.0.0,>=2.13.0->spacy<3.0.0->texthero) (4.0.0)\n",
            "Installing collected packages: srsly, catalogue, thinc, spacy\n",
            "  Attempting uninstall: srsly\n",
            "    Found existing installation: srsly 2.4.5\n",
            "    Uninstalling srsly-2.4.5:\n",
            "      Successfully uninstalled srsly-2.4.5\n",
            "  Attempting uninstall: catalogue\n",
            "    Found existing installation: catalogue 2.0.8\n",
            "    Uninstalling catalogue-2.0.8:\n",
            "      Successfully uninstalled catalogue-2.0.8\n",
            "  Attempting uninstall: thinc\n",
            "    Found existing installation: thinc 8.1.7\n",
            "    Uninstalling thinc-8.1.7:\n",
            "      Successfully uninstalled thinc-8.1.7\n",
            "  Attempting uninstall: spacy\n",
            "    Found existing installation: spacy 3.5.0\n",
            "    Uninstalling spacy-3.5.0:\n",
            "      Successfully uninstalled spacy-3.5.0\n",
            "\u001b[31mERROR: pip's dependency resolver does not currently take into account all the packages that are installed. This behaviour is the source of the following dependency conflicts.\n",
            "confection 0.0.4 requires srsly<3.0.0,>=2.4.0, but you have srsly 1.0.6 which is incompatible.\u001b[0m\u001b[31m\n",
            "\u001b[0mSuccessfully installed catalogue-1.0.2 spacy-2.3.9 srsly-1.0.6 thinc-7.4.6\n"
          ]
        }
      ],
      "source": [
        "!pip install texthero"
      ]
    },
    {
      "cell_type": "code",
      "source": [
        "!pip install nlp"
      ],
      "metadata": {
        "colab": {
          "base_uri": "https://localhost:8080/"
        },
        "id": "47gz5PdrUTAd",
        "outputId": "97175925-52f7-4bb5-9d6a-f9cfd31f6547"
      },
      "execution_count": 14,
      "outputs": [
        {
          "output_type": "stream",
          "name": "stdout",
          "text": [
            "Looking in indexes: https://pypi.org/simple, https://us-python.pkg.dev/colab-wheels/public/simple/\n",
            "Requirement already satisfied: nlp in /usr/local/lib/python3.8/dist-packages (0.4.0)\n",
            "Requirement already satisfied: pandas in /usr/local/lib/python3.8/dist-packages (from nlp) (1.3.5)\n",
            "Requirement already satisfied: xxhash in /usr/local/lib/python3.8/dist-packages (from nlp) (3.2.0)\n",
            "Requirement already satisfied: filelock in /usr/local/lib/python3.8/dist-packages (from nlp) (3.9.0)\n",
            "Requirement already satisfied: dill in /usr/local/lib/python3.8/dist-packages (from nlp) (0.3.6)\n",
            "Requirement already satisfied: pyarrow>=0.16.0 in /usr/local/lib/python3.8/dist-packages (from nlp) (9.0.0)\n",
            "Requirement already satisfied: requests>=2.19.0 in /usr/local/lib/python3.8/dist-packages (from nlp) (2.25.1)\n",
            "Requirement already satisfied: tqdm>=4.27 in /usr/local/lib/python3.8/dist-packages (from nlp) (4.64.1)\n",
            "Requirement already satisfied: numpy in /usr/local/lib/python3.8/dist-packages (from nlp) (1.21.6)\n",
            "Requirement already satisfied: urllib3<1.27,>=1.21.1 in /usr/local/lib/python3.8/dist-packages (from requests>=2.19.0->nlp) (1.24.3)\n",
            "Requirement already satisfied: certifi>=2017.4.17 in /usr/local/lib/python3.8/dist-packages (from requests>=2.19.0->nlp) (2022.12.7)\n",
            "Requirement already satisfied: idna<3,>=2.5 in /usr/local/lib/python3.8/dist-packages (from requests>=2.19.0->nlp) (2.10)\n",
            "Requirement already satisfied: chardet<5,>=3.0.2 in /usr/local/lib/python3.8/dist-packages (from requests>=2.19.0->nlp) (4.0.0)\n",
            "Requirement already satisfied: pytz>=2017.3 in /usr/local/lib/python3.8/dist-packages (from pandas->nlp) (2022.7.1)\n",
            "Requirement already satisfied: python-dateutil>=2.7.3 in /usr/local/lib/python3.8/dist-packages (from pandas->nlp) (2.8.2)\n",
            "Requirement already satisfied: six>=1.5 in /usr/local/lib/python3.8/dist-packages (from python-dateutil>=2.7.3->pandas->nlp) (1.15.0)\n"
          ]
        }
      ]
    },
    {
      "cell_type": "code",
      "source": [
        "!pip install -U spacy"
      ],
      "metadata": {
        "colab": {
          "base_uri": "https://localhost:8080/"
        },
        "id": "ct33uv7aUWcy",
        "outputId": "4aabb7bc-8124-4e4a-cf3a-4db07f76b9e2"
      },
      "execution_count": 15,
      "outputs": [
        {
          "output_type": "stream",
          "name": "stdout",
          "text": [
            "Looking in indexes: https://pypi.org/simple, https://us-python.pkg.dev/colab-wheels/public/simple/\n",
            "Requirement already satisfied: spacy in /usr/local/lib/python3.8/dist-packages (2.3.9)\n",
            "Collecting spacy\n",
            "  Using cached spacy-3.5.0-cp38-cp38-manylinux_2_17_x86_64.manylinux2014_x86_64.whl (6.7 MB)\n",
            "Requirement already satisfied: spacy-loggers<2.0.0,>=1.0.0 in /usr/local/lib/python3.8/dist-packages (from spacy) (1.0.4)\n",
            "Requirement already satisfied: murmurhash<1.1.0,>=0.28.0 in /usr/local/lib/python3.8/dist-packages (from spacy) (1.0.9)\n",
            "Requirement already satisfied: pydantic!=1.8,!=1.8.1,<1.11.0,>=1.7.4 in /usr/local/lib/python3.8/dist-packages (from spacy) (1.10.4)\n",
            "Collecting thinc<8.2.0,>=8.1.0\n",
            "  Using cached thinc-8.1.7-cp38-cp38-manylinux_2_17_x86_64.manylinux2014_x86_64.whl (828 kB)\n",
            "Requirement already satisfied: jinja2 in /usr/local/lib/python3.8/dist-packages (from spacy) (2.11.3)\n",
            "Requirement already satisfied: spacy-legacy<3.1.0,>=3.0.11 in /usr/local/lib/python3.8/dist-packages (from spacy) (3.0.12)\n",
            "Requirement already satisfied: cymem<2.1.0,>=2.0.2 in /usr/local/lib/python3.8/dist-packages (from spacy) (2.0.7)\n",
            "Requirement already satisfied: smart-open<7.0.0,>=5.2.1 in /usr/local/lib/python3.8/dist-packages (from spacy) (6.3.0)\n",
            "Requirement already satisfied: wasabi<1.2.0,>=0.9.1 in /usr/local/lib/python3.8/dist-packages (from spacy) (0.10.1)\n",
            "Collecting srsly<3.0.0,>=2.4.3\n",
            "  Using cached srsly-2.4.5-cp38-cp38-manylinux_2_17_x86_64.manylinux2014_x86_64.whl (492 kB)\n",
            "Collecting catalogue<2.1.0,>=2.0.6\n",
            "  Using cached catalogue-2.0.8-py3-none-any.whl (17 kB)\n",
            "Requirement already satisfied: langcodes<4.0.0,>=3.2.0 in /usr/local/lib/python3.8/dist-packages (from spacy) (3.3.0)\n",
            "Requirement already satisfied: requests<3.0.0,>=2.13.0 in /usr/local/lib/python3.8/dist-packages (from spacy) (2.25.1)\n",
            "Requirement already satisfied: packaging>=20.0 in /usr/local/lib/python3.8/dist-packages (from spacy) (23.0)\n",
            "Requirement already satisfied: tqdm<5.0.0,>=4.38.0 in /usr/local/lib/python3.8/dist-packages (from spacy) (4.64.1)\n",
            "Requirement already satisfied: preshed<3.1.0,>=3.0.2 in /usr/local/lib/python3.8/dist-packages (from spacy) (3.0.8)\n",
            "Requirement already satisfied: setuptools in /usr/local/lib/python3.8/dist-packages (from spacy) (57.4.0)\n",
            "Requirement already satisfied: numpy>=1.15.0 in /usr/local/lib/python3.8/dist-packages (from spacy) (1.21.6)\n",
            "Requirement already satisfied: typer<0.8.0,>=0.3.0 in /usr/local/lib/python3.8/dist-packages (from spacy) (0.7.0)\n",
            "Requirement already satisfied: pathy>=0.10.0 in /usr/local/lib/python3.8/dist-packages (from spacy) (0.10.1)\n",
            "Requirement already satisfied: typing-extensions>=4.2.0 in /usr/local/lib/python3.8/dist-packages (from pydantic!=1.8,!=1.8.1,<1.11.0,>=1.7.4->spacy) (4.4.0)\n",
            "Requirement already satisfied: urllib3<1.27,>=1.21.1 in /usr/local/lib/python3.8/dist-packages (from requests<3.0.0,>=2.13.0->spacy) (1.24.3)\n",
            "Requirement already satisfied: chardet<5,>=3.0.2 in /usr/local/lib/python3.8/dist-packages (from requests<3.0.0,>=2.13.0->spacy) (4.0.0)\n",
            "Requirement already satisfied: idna<3,>=2.5 in /usr/local/lib/python3.8/dist-packages (from requests<3.0.0,>=2.13.0->spacy) (2.10)\n",
            "Requirement already satisfied: certifi>=2017.4.17 in /usr/local/lib/python3.8/dist-packages (from requests<3.0.0,>=2.13.0->spacy) (2022.12.7)\n",
            "Requirement already satisfied: confection<1.0.0,>=0.0.1 in /usr/local/lib/python3.8/dist-packages (from thinc<8.2.0,>=8.1.0->spacy) (0.0.4)\n",
            "Requirement already satisfied: blis<0.8.0,>=0.7.8 in /usr/local/lib/python3.8/dist-packages (from thinc<8.2.0,>=8.1.0->spacy) (0.7.9)\n",
            "Requirement already satisfied: click<9.0.0,>=7.1.1 in /usr/local/lib/python3.8/dist-packages (from typer<0.8.0,>=0.3.0->spacy) (7.1.2)\n",
            "Requirement already satisfied: MarkupSafe>=0.23 in /usr/local/lib/python3.8/dist-packages (from jinja2->spacy) (2.0.1)\n",
            "Installing collected packages: catalogue, srsly, thinc, spacy\n",
            "  Attempting uninstall: catalogue\n",
            "    Found existing installation: catalogue 1.0.2\n",
            "    Uninstalling catalogue-1.0.2:\n",
            "      Successfully uninstalled catalogue-1.0.2\n",
            "  Attempting uninstall: srsly\n",
            "    Found existing installation: srsly 1.0.6\n",
            "    Uninstalling srsly-1.0.6:\n",
            "      Successfully uninstalled srsly-1.0.6\n",
            "  Attempting uninstall: thinc\n",
            "    Found existing installation: thinc 7.4.6\n",
            "    Uninstalling thinc-7.4.6:\n",
            "      Successfully uninstalled thinc-7.4.6\n",
            "  Attempting uninstall: spacy\n",
            "    Found existing installation: spacy 2.3.9\n",
            "    Uninstalling spacy-2.3.9:\n",
            "      Successfully uninstalled spacy-2.3.9\n",
            "\u001b[31mERROR: pip's dependency resolver does not currently take into account all the packages that are installed. This behaviour is the source of the following dependency conflicts.\n",
            "texthero 1.1.0 requires spacy<3.0.0, but you have spacy 3.5.0 which is incompatible.\n",
            "en-core-web-sm 2.3.1 requires spacy<2.4.0,>=2.3.0, but you have spacy 3.5.0 which is incompatible.\u001b[0m\u001b[31m\n",
            "\u001b[0mSuccessfully installed catalogue-2.0.8 spacy-3.5.0 srsly-2.4.5 thinc-8.1.7\n"
          ]
        }
      ]
    },
    {
      "cell_type": "code",
      "source": [
        "import texthero"
      ],
      "metadata": {
        "id": "n9WCXxDiUw0E"
      },
      "execution_count": 16,
      "outputs": []
    },
    {
      "cell_type": "code",
      "source": [
        "import texthero as hero"
      ],
      "metadata": {
        "id": "ehxW2cMMT7Vp"
      },
      "execution_count": 17,
      "outputs": []
    },
    {
      "cell_type": "code",
      "source": [
        "help(texthero)"
      ],
      "metadata": {
        "colab": {
          "base_uri": "https://localhost:8080/"
        },
        "id": "o5HjEuGbUDAc",
        "outputId": "c89a54cd-1040-4ac9-e6b9-75792d103220"
      },
      "execution_count": 18,
      "outputs": [
        {
          "output_type": "stream",
          "name": "stdout",
          "text": [
            "Help on package texthero:\n",
            "\n",
            "NAME\n",
            "    texthero - Texthero: python toolkit for text preprocessing, representation and visualization.\n",
            "\n",
            "PACKAGE CONTENTS\n",
            "    nlp\n",
            "    preprocessing\n",
            "    representation\n",
            "    stopwords\n",
            "    visualization\n",
            "\n",
            "DATA\n",
            "    Callable = typing.Callable\n",
            "    List = typing.List\n",
            "    Optional = typing.Optional\n",
            "    Set = typing.Set\n",
            "\n",
            "FILE\n",
            "    /usr/local/lib/python3.8/dist-packages/texthero/__init__.py\n",
            "\n",
            "\n"
          ]
        }
      ]
    },
    {
      "cell_type": "code",
      "source": [
        "import pandas as pd"
      ],
      "metadata": {
        "id": "pTWYiQFiWzc-"
      },
      "execution_count": 19,
      "outputs": []
    },
    {
      "cell_type": "code",
      "source": [
        "df=pd.read_csv('/content/BBC News Train.csv')"
      ],
      "metadata": {
        "id": "ivCGQ6KYW19J"
      },
      "execution_count": 24,
      "outputs": []
    },
    {
      "cell_type": "code",
      "source": [
        "df.head()"
      ],
      "metadata": {
        "colab": {
          "base_uri": "https://localhost:8080/",
          "height": 206
        },
        "id": "ZhsoRwFAXJ1N",
        "outputId": "2103563d-172b-4728-f1cc-b40cf9e99328"
      },
      "execution_count": 25,
      "outputs": [
        {
          "output_type": "execute_result",
          "data": {
            "text/plain": [
              "   ArticleId                                               Text  Category\n",
              "0       1833  worldcom ex-boss launches defence lawyers defe...  business\n",
              "1        154  german business confidence slides german busin...  business\n",
              "2       1101  bbc poll indicates economic gloom citizens in ...  business\n",
              "3       1976  lifestyle  governs mobile choice  faster  bett...      tech\n",
              "4        917  enron bosses in $168m payout eighteen former e...  business"
            ],
            "text/html": [
              "\n",
              "  <div id=\"df-bef82b29-70d7-4757-a213-2a4698f3915d\">\n",
              "    <div class=\"colab-df-container\">\n",
              "      <div>\n",
              "<style scoped>\n",
              "    .dataframe tbody tr th:only-of-type {\n",
              "        vertical-align: middle;\n",
              "    }\n",
              "\n",
              "    .dataframe tbody tr th {\n",
              "        vertical-align: top;\n",
              "    }\n",
              "\n",
              "    .dataframe thead th {\n",
              "        text-align: right;\n",
              "    }\n",
              "</style>\n",
              "<table border=\"1\" class=\"dataframe\">\n",
              "  <thead>\n",
              "    <tr style=\"text-align: right;\">\n",
              "      <th></th>\n",
              "      <th>ArticleId</th>\n",
              "      <th>Text</th>\n",
              "      <th>Category</th>\n",
              "    </tr>\n",
              "  </thead>\n",
              "  <tbody>\n",
              "    <tr>\n",
              "      <th>0</th>\n",
              "      <td>1833</td>\n",
              "      <td>worldcom ex-boss launches defence lawyers defe...</td>\n",
              "      <td>business</td>\n",
              "    </tr>\n",
              "    <tr>\n",
              "      <th>1</th>\n",
              "      <td>154</td>\n",
              "      <td>german business confidence slides german busin...</td>\n",
              "      <td>business</td>\n",
              "    </tr>\n",
              "    <tr>\n",
              "      <th>2</th>\n",
              "      <td>1101</td>\n",
              "      <td>bbc poll indicates economic gloom citizens in ...</td>\n",
              "      <td>business</td>\n",
              "    </tr>\n",
              "    <tr>\n",
              "      <th>3</th>\n",
              "      <td>1976</td>\n",
              "      <td>lifestyle  governs mobile choice  faster  bett...</td>\n",
              "      <td>tech</td>\n",
              "    </tr>\n",
              "    <tr>\n",
              "      <th>4</th>\n",
              "      <td>917</td>\n",
              "      <td>enron bosses in $168m payout eighteen former e...</td>\n",
              "      <td>business</td>\n",
              "    </tr>\n",
              "  </tbody>\n",
              "</table>\n",
              "</div>\n",
              "      <button class=\"colab-df-convert\" onclick=\"convertToInteractive('df-bef82b29-70d7-4757-a213-2a4698f3915d')\"\n",
              "              title=\"Convert this dataframe to an interactive table.\"\n",
              "              style=\"display:none;\">\n",
              "        \n",
              "  <svg xmlns=\"http://www.w3.org/2000/svg\" height=\"24px\"viewBox=\"0 0 24 24\"\n",
              "       width=\"24px\">\n",
              "    <path d=\"M0 0h24v24H0V0z\" fill=\"none\"/>\n",
              "    <path d=\"M18.56 5.44l.94 2.06.94-2.06 2.06-.94-2.06-.94-.94-2.06-.94 2.06-2.06.94zm-11 1L8.5 8.5l.94-2.06 2.06-.94-2.06-.94L8.5 2.5l-.94 2.06-2.06.94zm10 10l.94 2.06.94-2.06 2.06-.94-2.06-.94-.94-2.06-.94 2.06-2.06.94z\"/><path d=\"M17.41 7.96l-1.37-1.37c-.4-.4-.92-.59-1.43-.59-.52 0-1.04.2-1.43.59L10.3 9.45l-7.72 7.72c-.78.78-.78 2.05 0 2.83L4 21.41c.39.39.9.59 1.41.59.51 0 1.02-.2 1.41-.59l7.78-7.78 2.81-2.81c.8-.78.8-2.07 0-2.86zM5.41 20L4 18.59l7.72-7.72 1.47 1.35L5.41 20z\"/>\n",
              "  </svg>\n",
              "      </button>\n",
              "      \n",
              "  <style>\n",
              "    .colab-df-container {\n",
              "      display:flex;\n",
              "      flex-wrap:wrap;\n",
              "      gap: 12px;\n",
              "    }\n",
              "\n",
              "    .colab-df-convert {\n",
              "      background-color: #E8F0FE;\n",
              "      border: none;\n",
              "      border-radius: 50%;\n",
              "      cursor: pointer;\n",
              "      display: none;\n",
              "      fill: #1967D2;\n",
              "      height: 32px;\n",
              "      padding: 0 0 0 0;\n",
              "      width: 32px;\n",
              "    }\n",
              "\n",
              "    .colab-df-convert:hover {\n",
              "      background-color: #E2EBFA;\n",
              "      box-shadow: 0px 1px 2px rgba(60, 64, 67, 0.3), 0px 1px 3px 1px rgba(60, 64, 67, 0.15);\n",
              "      fill: #174EA6;\n",
              "    }\n",
              "\n",
              "    [theme=dark] .colab-df-convert {\n",
              "      background-color: #3B4455;\n",
              "      fill: #D2E3FC;\n",
              "    }\n",
              "\n",
              "    [theme=dark] .colab-df-convert:hover {\n",
              "      background-color: #434B5C;\n",
              "      box-shadow: 0px 1px 3px 1px rgba(0, 0, 0, 0.15);\n",
              "      filter: drop-shadow(0px 1px 2px rgba(0, 0, 0, 0.3));\n",
              "      fill: #FFFFFF;\n",
              "    }\n",
              "  </style>\n",
              "\n",
              "      <script>\n",
              "        const buttonEl =\n",
              "          document.querySelector('#df-bef82b29-70d7-4757-a213-2a4698f3915d button.colab-df-convert');\n",
              "        buttonEl.style.display =\n",
              "          google.colab.kernel.accessAllowed ? 'block' : 'none';\n",
              "\n",
              "        async function convertToInteractive(key) {\n",
              "          const element = document.querySelector('#df-bef82b29-70d7-4757-a213-2a4698f3915d');\n",
              "          const dataTable =\n",
              "            await google.colab.kernel.invokeFunction('convertToInteractive',\n",
              "                                                     [key], {});\n",
              "          if (!dataTable) return;\n",
              "\n",
              "          const docLinkHtml = 'Like what you see? Visit the ' +\n",
              "            '<a target=\"_blank\" href=https://colab.research.google.com/notebooks/data_table.ipynb>data table notebook</a>'\n",
              "            + ' to learn more about interactive tables.';\n",
              "          element.innerHTML = '';\n",
              "          dataTable['output_type'] = 'display_data';\n",
              "          await google.colab.output.renderOutput(dataTable, element);\n",
              "          const docLink = document.createElement('div');\n",
              "          docLink.innerHTML = docLinkHtml;\n",
              "          element.appendChild(docLink);\n",
              "        }\n",
              "      </script>\n",
              "    </div>\n",
              "  </div>\n",
              "  "
            ]
          },
          "metadata": {},
          "execution_count": 25
        }
      ]
    },
    {
      "cell_type": "code",
      "source": [
        "df.shape"
      ],
      "metadata": {
        "colab": {
          "base_uri": "https://localhost:8080/"
        },
        "id": "7oWgEg6WZcqJ",
        "outputId": "93642853-09e0-4347-b10d-e0c4dd3c47a1"
      },
      "execution_count": 26,
      "outputs": [
        {
          "output_type": "execute_result",
          "data": {
            "text/plain": [
              "(1490, 3)"
            ]
          },
          "metadata": {},
          "execution_count": 26
        }
      ]
    },
    {
      "cell_type": "code",
      "source": [
        "df['Text'][0]"
      ],
      "metadata": {
        "colab": {
          "base_uri": "https://localhost:8080/",
          "height": 128
        },
        "id": "wNcAkehMZ_uP",
        "outputId": "cb676c3f-072e-4320-8d1f-b600eba2b62c"
      },
      "execution_count": 27,
      "outputs": [
        {
          "output_type": "execute_result",
          "data": {
            "text/plain": [
              "'worldcom ex-boss launches defence lawyers defending former worldcom chief bernie ebbers against a battery of fraud charges have called a company whistleblower as their first witness.  cynthia cooper  worldcom s ex-head of internal accounting  alerted directors to irregular accounting practices at the us telecoms giant in 2002. her warnings led to the collapse of the firm following the discovery of an $11bn (£5.7bn) accounting fraud. mr ebbers has pleaded not guilty to charges of fraud and conspiracy.  prosecution lawyers have argued that mr ebbers orchestrated a series of accounting tricks at worldcom  ordering employees to hide expenses and inflate revenues to meet wall street earnings estimates. but ms cooper  who now runs her own consulting business  told a jury in new york on wednesday that external auditors arthur andersen had approved worldcom s accounting in early 2001 and 2002. she said andersen had given a  green light  to the procedures and practices used by worldcom. mr ebber s lawyers have said he was unaware of the fraud  arguing that auditors did not alert him to any problems.  ms cooper also said that during shareholder meetings mr ebbers often passed over technical questions to the company s finance chief  giving only  brief  answers himself. the prosecution s star witness  former worldcom financial chief scott sullivan  has said that mr ebbers ordered accounting adjustments at the firm  telling him to  hit our books . however  ms cooper said mr sullivan had not mentioned  anything uncomfortable  about worldcom s accounting during a 2001 audit committee meeting. mr ebbers could face a jail sentence of 85 years if convicted of all the charges he is facing. worldcom emerged from bankruptcy protection in 2004  and is now known as mci. last week  mci agreed to a buyout by verizon communications in a deal valued at $6.75bn.'"
            ],
            "application/vnd.google.colaboratory.intrinsic+json": {
              "type": "string"
            }
          },
          "metadata": {},
          "execution_count": 27
        }
      ]
    },
    {
      "cell_type": "code",
      "source": [
        "df['cleaned_data']=df['Text'].pipe(hero.clean)"
      ],
      "metadata": {
        "id": "B3NhdnjQZyM8"
      },
      "execution_count": 28,
      "outputs": []
    },
    {
      "cell_type": "code",
      "source": [
        "df['cleaned_data'][0]"
      ],
      "metadata": {
        "colab": {
          "base_uri": "https://localhost:8080/",
          "height": 128
        },
        "id": "Omazc5fFaFej",
        "outputId": "36c21132-8dde-4cef-eab2-6079b6c48d2c"
      },
      "execution_count": 30,
      "outputs": [
        {
          "output_type": "execute_result",
          "data": {
            "text/plain": [
              "'worldcom ex boss launches defence lawyers defending former worldcom chief bernie ebbers battery fraud charges called company whistleblower first witness cynthia cooper worldcom ex head internal accounting alerted directors irregular accounting practices us telecoms giant warnings led collapse firm following discovery 11bn PS 7bn accounting fraud mr ebbers pleaded guilty charges fraud conspiracy prosecution lawyers argued mr ebbers orchestrated series accounting tricks worldcom ordering employees hide expenses inflate revenues meet wall street earnings estimates ms cooper runs consulting business told jury new york wednesday external auditors arthur andersen approved worldcom accounting early said andersen given green light procedures practices used worldcom mr ebber lawyers said unaware fraud arguing auditors alert problems ms cooper also said shareholder meetings mr ebbers often passed technical questions company finance chief giving brief answers prosecution star witness former worldcom financial chief scott sullivan said mr ebbers ordered accounting adjustments firm telling hit books however ms cooper said mr sullivan mentioned anything uncomfortable worldcom accounting audit committee meeting mr ebbers could face jail sentence years convicted charges facing worldcom emerged bankruptcy protection known mci last week mci agreed buyout verizon communications deal valued 75bn'"
            ],
            "application/vnd.google.colaboratory.intrinsic+json": {
              "type": "string"
            }
          },
          "metadata": {},
          "execution_count": 30
        }
      ]
    },
    {
      "cell_type": "code",
      "source": [
        "df['text_vectors']=df['cleaned_data'].pipe(hero.tfidf)"
      ],
      "metadata": {
        "id": "IHk0xx4-aQud"
      },
      "execution_count": 34,
      "outputs": []
    },
    {
      "cell_type": "code",
      "source": [
        "df['text_vectors'][0]"
      ],
      "metadata": {
        "id": "nASM13dZabic"
      },
      "execution_count": null,
      "outputs": []
    },
    {
      "cell_type": "code",
      "source": [
        "df['pca']=df['text_vectors'].pipe(hero.pca)"
      ],
      "metadata": {
        "id": "b3w0Hg0Tapv0"
      },
      "execution_count": 36,
      "outputs": []
    },
    {
      "cell_type": "code",
      "source": [
        "df['pca'][0]"
      ],
      "metadata": {
        "colab": {
          "base_uri": "https://localhost:8080/"
        },
        "id": "Yh4u6vi6bAKe",
        "outputId": "c2b92b92-41b9-49e2-e137-9d018dd2c80a"
      },
      "execution_count": 37,
      "outputs": [
        {
          "output_type": "execute_result",
          "data": {
            "text/plain": [
              "[0.03373704321229533, 0.025393798278408198]"
            ]
          },
          "metadata": {},
          "execution_count": 37
        }
      ]
    },
    {
      "cell_type": "code",
      "source": [
        "hero.scatterplot(df,'pca',color='Category')"
      ],
      "metadata": {
        "colab": {
          "base_uri": "https://localhost:8080/",
          "height": 542
        },
        "id": "DC3kkLWcbDx5",
        "outputId": "8093f1d8-6af1-48fe-add5-cacb61edee30"
      },
      "execution_count": 42,
      "outputs": [
        {
          "output_type": "display_data",
          "data": {
            "text/html": [
              "<html>\n",
              "<head><meta charset=\"utf-8\" /></head>\n",
              "<body>\n",
              "    <div>            <script src=\"https://cdnjs.cloudflare.com/ajax/libs/mathjax/2.7.5/MathJax.js?config=TeX-AMS-MML_SVG\"></script><script type=\"text/javascript\">if (window.MathJax) {MathJax.Hub.Config({SVG: {font: \"STIX-Web\"}});}</script>                <script type=\"text/javascript\">window.PlotlyConfig = {MathJaxConfig: 'local'};</script>\n",
              "        <script src=\"https://cdn.plot.ly/plotly-2.8.3.min.js\"></script>                <div id=\"4d7af682-e3bf-48a0-9285-387d46dc7f42\" class=\"plotly-graph-div\" style=\"height:525px; width:100%;\"></div>            <script type=\"text/javascript\">                                    window.PLOTLYENV=window.PLOTLYENV || {};                                    if (document.getElementById(\"4d7af682-e3bf-48a0-9285-387d46dc7f42\")) {                    Plotly.newPlot(                        \"4d7af682-e3bf-48a0-9285-387d46dc7f42\",                        [{\"hovertemplate\":\"Category=business<br>x=%{x}<br>y=%{y}<extra></extra>\",\"legendgroup\":\"business\",\"marker\":{\"color\":\"#636efa\",\"symbol\":\"circle\"},\"mode\":\"markers\",\"name\":\"business\",\"showlegend\":true,\"x\":[0.03373704321229533,0.014164942677535122,0.03610973081600682,-0.01955799773917739,-0.04412839590412157,-0.004845641953967929,-0.0039304499707954734,0.01859325813618945,0.09167511068223526,0.00042123151737929364,0.004078981149900464,-0.027898975008798163,-0.00133494347027954,-0.021938852855210817,-0.010951931458619363,-0.01856099258205659,-0.0221321154721436,-0.01254223127403549,-0.04757099049210827,-0.027143443285596473,-0.020830312536806006,-0.00031275711198587965,-0.014164506946581543,0.0008604828661907686,-0.027965078013504254,0.015548433284308974,0.011414556302374805,0.007552222835006851,-0.0027144144544931667,-0.005977124838865058,-0.01201788936297684,-0.030099729709969172,0.05494037736874858,-0.016660573212496414,0.028782320295139822,-0.023644907976051767,-0.034365831925295166,0.0817542056725427,-0.02741664139364496,-0.03376643563998024,0.08896780876517343,-0.011722786058063348,-0.020183378123476356,0.0361137937479791,0.028490887432612882,-0.021327779550947404,0.007263418055981195,0.014428274169828679,-0.032639035274764125,0.13215329464496092,-0.027808971379151715,-0.025881195510061558,0.0007582263811489291,0.08156654338434195,0.06125716719957439,0.023589699977957325,-0.0073308403669646825,0.025524509427612627,-0.026637267256558187,0.0659724024254761,-0.01017607288513159,0.005195312093074664,-0.0359388555070403,-0.022317523769627097,-0.050732379156764734,-0.0028608555513768875,0.01442404519444298,-0.005459735782470913,-0.008870315837215674,-0.02148913834132065,-0.04382008236967598,-0.030859006901850127,-0.02278290241691621,-0.027040016630131197,-0.009780435090991604,0.030496615981110566,-0.01834418707752978,-0.020436944452785634,-0.02285477182008995,0.016326954208449422,-0.0040475779593083005,-0.02447826269563327,-0.006325528870260554,0.02669619134944149,-0.009936461550052126,-0.024245818792948914,0.09853539826991295,-0.02406825721947046,-0.04304088588164082,-0.03686609273669287,0.012755039125564,0.1120190360844444,0.002319910184148891,-0.02182710389308741,0.006219486009800563,0.049463500232858636,-0.027565106414910855,0.024838730591150552,-0.014579758899693556,-0.026041064275513937,0.07157894608148549,-0.040527823677966035,-0.03428375848838925,0.053821328571914434,0.018958096447808256,-0.006225851255237661,-0.02744669757830261,0.05532339473887688,-0.031582440315966354,-0.006388279564647102,0.004904656527269954,-0.008269446729045471,-0.04815995511796032,0.008039931124419357,-0.013973062381505067,0.03968294323518204,0.053516178516257375,0.17606972230999038,-0.0028340946752652843,0.025395301613146362,-0.031099079243938815,-0.0040550045071835955,0.024849663472658202,0.019856466164716764,0.044639329288005535,0.06871599644053342,0.009815476851756056,0.016986312589088705,-0.03923224573089481,0.15933204812587157,0.010669903616227688,0.013694587484349287,-0.02913762239591943,-0.0031979585249332907,-0.028307541263945354,-0.006974409644151717,0.009237157270396661,-0.03176853490876003,-0.018645772879213714,-0.03980308141546698,-0.005045513649805214,0.017564780552414977,-0.01925401171051538,0.030887721084243782,4.757368506845074e-05,-0.009817671927261332,-0.004649160619336047,0.046049365821981214,-0.02444551669402185,0.006380406826954456,0.03791874376001266,-0.026523416216151997,0.015943349739337507,0.07809208803346485,-0.014284389172686734,-0.022635092450012686,0.022553302691157733,-0.030729494744388432,-0.011908817109352553,0.006798943880313311,-0.034739910338175306,-0.004700379843466023,0.014173020167161649,0.06903742720403218,-0.021031432194679966,-0.024951246121092865,0.056926648626866465,-0.022528496283414846,0.0798293127413149,0.07052174923041153,0.0011746011100170466,-0.03906075549719211,-0.030931796500355768,-0.031273278899446394,-0.02912019989098292,0.01581709115564715,-0.009028792531955852,-0.036861028234914654,0.006339360664418769,-0.0180461381245643,0.0027856094463190157,0.00605216837013464,-0.0020149214575805627,0.006133113144927686,-0.01053711339803724,0.0430793767074199,0.03313186492817388,-0.03966080722914419,0.07099546586188832,0.07217368953956432,0.03211201884942244,-0.031872357369383576,0.023467034583154304,-0.011011360422335463,-0.013206286186274705,0.007878559438752339,-0.016054578999536575,0.009792522307292037,-0.026054193387943726,0.06169206066554202,-0.02278290241691621,0.0006208606044124314,-0.04283270056519134,-0.004964538186813781,0.009665593205672158,-0.004621708679486484,-0.032159997082237254,-0.01743814944470455,-0.002838941297917801,-0.021560379617856763,-0.03216642315276506,-0.009468519299448091,-0.05050303217718998,-0.0011609038287015894,0.009739219827906,0.030849472502176657,-0.00018005145979813576,-0.010658963300374042,0.0431651177123903,0.009303762696269693,0.018170571800735794,0.033538723389994696,-0.018778469216718722,0.009084600725422687,0.07778927632557069,-0.02071532134178106,-0.01651868295915145,0.009529861596203214,-0.026930156329644687,0.004798789168517167,0.02475953167309172,-0.009784409653053421,0.02641325554183551,0.037812122535589604,-0.020666377396375838,-0.004513183026403242,-0.02580253359498261,-0.02468841462878513,0.0259622187271786,0.0005233588352099725,0.027610694197564824,0.007704886402405471,-0.026775841967176844,0.04352365791882967,-0.01549796734337862,-0.03811021594173111,0.04168339690039204,0.026953557496136565,-0.0153008477054157,0.08626041051886607,-0.01667895134972791,0.0764903688913379,0.07118634869854865,-0.015818057873252016,-0.0022660458386936687,-0.024723145306428763,-0.013673971870888047,-0.022935626555778386,-0.022848020083232865,0.007293778975068882,-0.03482335423574855,-0.0056242566477542255,0.030331426295160266,-0.014231227198065303,-0.01590821329844869,-0.017040872594669024,0.022990211888867525,-0.008492150614766594,-0.010158440135507315,0.021125000602874835,-0.02946120070310426,-0.011781611543298997,0.03689278979695099,-0.007011460571943417,-0.033168962169434324,-0.014168965691339254,0.02002517971352629,0.022843436848225103,-0.010074536371901466,-0.005248977788147678,-0.01770741912401464,0.00606271936034098,-0.0023002201844177493,-0.008610413140234197,0.018869313149569075,0.0020883819045082047,-0.011281879575173502,-0.004486263462526416,0.046393201698319,0.032767313369739884,0.05625408665980821,-0.0006978271487061584,0.043941520369222296,-0.01054450388704587,-0.004093445041274906,-0.011770209524541891,-0.04162684404806796,0.015984173031391886,0.014656332927507702,0.034724544413267014,0.013927164856352068,-0.024523213623497783,-0.014918746559396096,-0.024496451662237018,0.0015988477465819493,0.04473139839761547,0.04820155575317039,0.040433415525387775,-0.03031958428656779,-0.036249441630526416,-0.032457406897965974,0.040515838808735466,0.00729034496663401,-0.0012807542472982898,-0.020491299788921117,-0.002444937921137246,-0.024207827512173225,0.0938508422682157,-0.012741397877614191,-0.013921489584804506,0.0040870431698485435,0.09780192485134356,0.08451152708644778,-0.030486335797964566,0.006586444886660594,0.009109210255157079,-0.03622398876884392,-0.01953101208568013,0.049463500232858636,-0.007904091780157899,0.05368284245354591,-0.012216529696623036,-0.02736414810592714,-0.01529424575222828,-0.026343785373615487,-0.020428283742961444],\"xaxis\":\"x\",\"y\":[0.025393798278408198,0.10529923376427594,0.06517426658175195,0.036093055735920004,0.07718077191161453,0.05810637506681008,0.07444668575540646,0.07983233701552439,0.04728963600975314,0.13584676805116416,0.07709180602345245,0.016892394897630093,0.11584130829069217,-0.019201605768632297,0.029227732397402298,0.08196307769871687,0.09988951284735413,0.028941598797594694,0.061917803554900654,0.027326157220096226,0.027112830862777507,0.021218254642395715,0.05087884528345855,0.09797784675221304,0.04293267008268984,0.038512024378930934,0.1151675309949898,0.12130445072528045,0.06120465521678095,0.050057066525085195,0.02453624718073771,0.07096527281232853,-0.018661507370003945,0.07730980731466322,-0.0014003972407828707,0.09512407614244266,0.09565592519409663,0.07760560318300079,0.043905758455871795,0.04430895059360906,0.08303492896123996,0.014521693877117575,0.06580931019133786,0.06798994652391846,0.05083771127307928,0.04037686040154172,0.04487732903669218,0.0327054839725881,0.06349737776298542,0.05749554339704148,0.04345141336189318,0.09466150778282792,0.07198748986221506,0.052291029434566504,0.002194692030129879,0.0678593920811219,0.06071348228635923,0.046268406098827417,0.06370808294303061,0.10035424828599061,0.054238473966208955,0.019144484524749407,0.07403809506912991,0.10104641553209368,0.12401336613637087,0.08907312606200866,0.0940337868641024,0.0879333069249253,0.050280132454578734,0.0857024992805101,0.07477933630120856,0.05540308777314487,0.08459275228696167,0.088161084786864,0.0289692159582666,0.12144467549592007,0.08380594196303802,0.11218577100680692,0.02710895054020378,0.14005939756889652,0.10535324414100972,0.05725085945604386,0.05269541893589715,0.07203447466522035,0.028621589587942087,0.11555240951640824,0.03256610290114115,0.050417864864797025,0.04685190393327439,0.011452231717605663,0.1383930652666467,0.01871056847851843,0.05548164328705652,0.020521697131435226,0.045022150639280833,0.08244993385735677,0.11256638664515882,0.07386609081110646,0.01726386427774294,0.05444196636921825,0.10991204814628022,0.10965050325747916,0.05390606907462705,0.049486241029247424,0.09746937746415123,0.042232384485849817,0.12186030343655259,0.054555933231871495,0.07231442641222509,0.09168569474231077,0.07006820322657822,0.030449471299274056,0.1091594797478052,0.018538077558999173,0.039720836554951185,0.07289979696783265,0.024946309764534033,0.007715349485671117,0.09961118231500192,0.09293606576066248,0.026981968125056884,0.0597026262311188,0.031248341999450143,0.029383426983761285,-0.022342427181417927,0.0903389260875021,0.11581244067864582,0.07956101917014745,0.07623020159087043,0.07267692255775837,0.08438260405033633,0.06463828150413602,0.04300947198022655,0.04754608439313259,0.08509640848693246,0.04487446018579278,0.040143770741998125,-0.005222750254920694,0.043926314801852114,0.08389602295540459,0.023699561728240077,-0.001011499534208636,0.08359817682308521,0.14403460842959126,0.06284585970926196,0.025225333854001948,0.12998592638886478,0.05166884148705871,0.05422394521770682,0.09824550477993634,0.07536290296454146,0.09209502372922337,0.08656144655791276,-0.0038437616462479378,0.08080939981863301,0.0379809104196529,0.10804711244607404,0.09152643145218077,0.0784796676580556,0.03415774928430055,0.05306476269046035,0.04657891524095401,0.04657296862251161,0.012065891176908214,0.06949280265347435,0.06948835674053568,0.07464513322355,0.0890991453120523,0.05596325917958877,0.05400121318784061,0.022538565155315975,0.04871319050057996,0.02859428532090176,0.03813242960060311,0.06909588577195672,0.022502185252976536,0.046886092303467575,0.04025783018730833,0.0868341249648775,0.06448177029699748,0.05568595833671904,0.06281954247335209,0.029189033069980812,0.07082037424866919,0.04788355049064944,0.06352533304841504,0.10676876916443087,0.03030868637849276,0.021582682433884663,0.04801173967367254,0.03657452038918709,0.07133110481771979,0.036910018653764774,0.1249749427731524,0.03444592255106336,0.03827187188730431,0.042331963023881584,0.05665484476051415,0.05022543856625627,0.008600255338540606,0.08459275228696167,0.05806253280297779,0.10552146442045962,0.053394741623621,0.05015913032141674,0.08117224617295879,0.1260026919654841,0.08283782092287326,0.09073320705149875,0.07534741445639162,0.04234754517181114,0.0658036272420353,0.08192631660029362,0.09164235738209833,0.024338213537612455,0.12152805489857768,0.03723867011914755,0.09368924586291108,0.06136799467724754,0.02882601767065912,0.12271282301803643,0.12896311968125204,0.04017298993304927,0.11291991660082108,0.0664360069974809,0.104498271075213,0.015210404137428635,0.018225810877619285,0.03373330258002724,0.1001600385885013,0.11251809997700045,0.05159210907772239,0.0537164087896265,0.04245562127966746,0.09601518489187857,0.06802057425860794,0.07528539612988923,0.06204388576689089,0.05924007397591058,0.03196072389806193,0.1090687182584537,0.11865333434358967,0.08939695416409409,0.05417356367785881,0.07097307694995697,0.16020361473925618,0.01608211151393695,0.07371794052595712,0.06867189893383291,0.06631298501106861,0.08867563095207966,0.03806776160151083,0.08536265522981935,0.03965252142980143,0.07866698212826748,0.07817458790640147,0.055973361071777944,0.07320643818451508,0.0551750766015717,0.04935707393869192,0.045972189466895866,0.06602803408031267,0.09241354362950135,0.043060091929602286,0.02851472765896076,0.02986232856368946,0.02500538487750561,0.027047465846040317,0.0305036823595247,0.037732536768150526,0.11063847117426374,0.021343613380505982,0.05872947123139614,0.11941617103737916,0.05886195026343491,0.041680620701755204,0.08425845990211087,0.01657036366933931,0.06584930673012922,0.037305521145043416,0.04610677420906917,0.11875495201425294,0.10311256255380151,0.036054798873373026,0.055716669924486394,0.07596310175738018,0.10741734631620044,0.032322692168817724,-0.028582528634074535,0.06192052920427889,0.060538466752124945,0.046242664189696456,0.023448743540580307,0.05050230031238266,0.023855890267283242,0.13294155740078942,0.1336995675984579,0.07946093206556201,-0.008394202085104413,0.07106366652564747,0.0741436189127176,0.04591852402554407,0.07458611968629662,0.03416883163645727,0.02410857891767827,-0.020384890687744142,0.08382352188528214,0.14422959831150953,0.062200876750528836,0.06432344959915696,0.024719677378530425,0.03576163283343449,0.07034143813571248,0.08991634284129146,0.17194791999818582,0.11337977267254538,0.06184354815195802,-0.004201881197403973,0.025551093572956384,0.029715867567497316,0.049861860463245936,0.08151358814092685,0.03717778198007708,0.018167841543074104,0.04722588404273665,0.018999715216572916,0.07647827632799949,0.05563818786068881,0.08244993385735677,0.10076841056748351,0.08652617178368688,0.05032543724754503,0.06666630876788245,0.04685833398403066,0.10641404981916362,0.07661613316939574],\"yaxis\":\"y\",\"type\":\"scattergl\"},{\"hovertemplate\":\"Category=tech<br>x=%{x}<br>y=%{y}<extra></extra>\",\"legendgroup\":\"tech\",\"marker\":{\"color\":\"#EF553B\",\"symbol\":\"circle\"},\"mode\":\"markers\",\"name\":\"tech\",\"showlegend\":true,\"x\":[-0.02508934842525185,-0.055976884831597025,0.010965268278655302,-0.030544213271179916,-0.019817805015016305,-0.030489581785376203,-0.014471049571056114,-0.031724298001989816,-0.025782832966456663,-0.01758178346188977,-0.09664297132689316,-0.050988417619238016,-0.002104916750824485,-0.029159521473468373,0.012910071091937847,-0.02025638185820301,-0.04884464323509091,0.010593533909432101,-0.050086646871668826,-0.025535714370100784,-0.025415049851909503,-0.035747169958279694,-0.06777326025873728,-0.03116441499879257,0.002561982786910089,-0.025808673203710837,-0.018524310468866188,-0.0330356364366802,-0.0301025291797841,-0.0074695861083266335,0.018840935638538985,-0.012898549054754554,-0.04911497473274965,-0.01577881064204244,-0.010528190119398184,-0.0074695861083266335,-0.002643257925466826,-0.03575380413946854,-0.050453883453183426,-0.041196599867497415,0.007817096956936512,-0.012483445417194402,-0.017198447797526165,-0.048109503683193264,-0.04166924905317618,-0.03808965369235943,0.01939729863938993,-0.04402404540276366,-0.03831453819822893,-0.04804384944578933,-0.0056383771208825114,-0.04848430053850481,-0.0056383771208825114,-0.02600676854846797,-0.039421637985319856,-0.016880134164435998,-0.05231575476866359,-0.048539806078998944,-0.009683718474062639,-0.13508770873702766,-0.03546855416886736,0.036494965781450006,0.0019719160952021636,-0.02361389722242492,-0.02965080397038357,0.023489388744231236,-0.04599700941077694,-0.000653503055236112,-0.06680897654116585,-0.053279001945685786,-0.054819587701790955,-0.03593622295494194,-0.04376589613912721,0.010821767574819435,-0.02497534930396405,-0.02093326397590277,-0.01691124738158861,0.010851972561518498,-0.09393596745390476,0.011775837039210918,-0.014060025244559663,-0.044246066053992415,-0.008677976080676724,-0.03264267546594039,-0.0409613429374703,-0.005652343758329581,-0.027110308770194626,-0.002643257925466826,-0.03933263624833519,-0.030305333488870823,-0.06894860848194503,-0.029749010074228997,-0.03593622295494194,-0.04585367575885456,-0.05336953174204241,-0.03647483498264105,-0.05949864610021773,0.014635437602950909,-0.03443467809795067,-0.010213084877932169,-0.06731015085998955,-0.06263826876543888,-0.025446718813415738,-0.06589144056570692,-0.006603213835357655,-0.005313912113241512,-0.04033417860961817,-0.04196639945575601,-0.057280926341453486,-0.023015006691969195,-0.01812814852705432,0.0032657980732676245,0.0011836858945695288,0.011353300994489654,-0.05482866125887178,-0.024655370552368727,0.01939729863938993,-0.04417836104500246,-0.005961066013237422,-0.027368137927124104,-0.021301032182910063,-0.03439788799286817,-0.05467821293145276,-0.018493435770082795,0.022493436229570084,-0.04458464501904812,-0.012720262888092564,-0.006751751272013881,-0.05599890914453398,-0.028450295350568637,-0.018404827795122525,-0.037752110658072525,0.007808571517461341,0.010267151671917968,-0.022832755820352525,-0.016784886158660337,-0.03443467809795067,-0.0097185891271575,-0.04884464323509091,-0.04402404540276366,-0.04116976285895473,0.01639077684733252,-0.025781149631204855,-0.034766337895141636,-0.031796910549992244,0.08566161302973417,0.036494965781450006,-0.0363301456675893,0.0016874532499035922,-0.07118206962755368,-0.02407790925439312,-0.01724848861271666,0.0018821607387219034,-0.025781149631204855,-0.034766337895141636,-0.060891221057882,0.028768214047358014,-0.04900107991427473,-0.07058469915520323,-0.03964071813856542,-0.030818888783654443,-0.024393033598502967,-0.054141559850012115,-0.007350411567061996,0.02347961199809728,-0.026387601734187298,0.002825847728059499,-0.02262674015053887,-0.043881177128620955,-0.004469481662092447,-0.018102350145480228,-0.027007444831540616,-0.020997649999544035,-0.029319782976484722,-0.030818888783654443,-0.025076069166425494,-0.03264267546594039,-0.06568048236619764,-0.024554304340108354,-0.004364223234192165,-0.03140656111094772,-0.08024801154271384,-0.025235141392379586,-0.025535714370100784,-0.009583097093856583,-0.01918512690873404,-0.05336953174204241,-0.04585367575885456,-0.06341687033573465,-0.028820167574496923,-0.04327591093905961,-0.030311766451521734,-0.01768460715381035,-0.00252670901409572,0.038763915511139634,-0.02386896763947003,-0.001380146529983866,-0.026164033508310713,-0.1260771271564378,0.013458308238584736,0.03242892608669792,0.023197088966411962,-0.1260771271564378,-0.04419850516078009,-0.011116571686481738,-0.01207488242649054,-0.018211433572007458,-0.031796910549992244,-0.039421637985319856,-0.02208188981955296,-0.00623884364594653,-0.028022880590301162,-0.0029894678105320005,-0.00032667153771132317,-0.029355845131398998,-0.01825100912229401,-0.03186573527340527,-0.037949873286446646,-0.041715222210929416,-0.05439465937520107,0.006164467621357151,-0.03830466103893414,-0.006645659610522482,-0.04516610555094852,-0.039644549120475096,-0.03439788799286817,-0.016880134164435998,-0.03705806333738379,-0.01568130079595784,-0.039644549120475096,0.014797168024209592,0.010851972561518498,-0.04343382015484482,-0.0042071702410696535,-0.04880594627315158,-0.018507560223317728,-0.041864961760222565,-0.05231575476866359,-0.07671459575280357,-0.024626660362903587,-0.0363301456675893,-0.0021143922251317267,-0.021092801173753166,-0.00988953059729389,-0.04518716500912833,-0.037949873286446646,-0.05482866125887178,-0.03581117994337198,-0.0440239483244338,-0.017118041926715385,-0.029159521473468373,-0.10076355545733649,-0.01207488242649054,-0.008034303548002858,-0.012819980558945638,-0.009694775371035316,-0.025947930427620662,0.016429749771758297,-0.006595362998650134,-0.052254723660793576,-0.03963271632174411],\"xaxis\":\"x\",\"y\":[0.2358899346665737,0.16868140059865736,0.12045102047185563,0.12834092523471816,0.08597175533126228,0.1423504358932715,0.028361894727276675,0.06723337133431691,0.17516306259618877,0.20558033371385467,0.02870569501833154,0.08370362580457996,0.09385857243082636,0.05273247231930266,0.06071973623823509,0.21693676005291676,0.2123076023612172,0.12143524527532217,-0.013055231202032547,0.10039573782525792,0.1040539668236073,0.12800189781979088,0.14048469661119486,0.09239060941077863,0.18605163228322588,0.1485410554092653,0.20535114485970257,0.14253592835056092,0.10034027006375096,0.201823677972348,0.07473931725611759,0.07353048242084353,0.29011816863009016,0.15284950412354456,0.13071787521522021,0.201823677972348,0.08993893357885886,0.04430403253603624,0.1608577987595774,0.09532802918656544,0.09916389351411853,0.09176088444476146,0.18829924399794337,0.23564959520788858,0.20962409430356624,0.10500910434743613,0.0963875068732472,0.19765297660213677,0.09642151864384098,0.15091329051070126,0.0938318501315136,0.1574922474561556,0.0938318501315136,0.05761957262405179,0.08433217242573063,0.0770753577810424,0.2828343552680392,0.12761316482096677,0.11511344747091071,-0.0599901119039481,0.10688267765883042,0.07004724987919118,0.11851085925015922,0.02114035394173447,0.2760057216488758,0.0931644748879088,0.07828277525360516,0.07046289880071442,-0.04957229150337282,-0.0101124912038076,0.11028462030850175,0.13997712223093275,0.21792283300701354,0.17144732856278302,0.23663756486522483,-0.00911903973441601,0.05563004479297916,0.05650082232861633,0.0771638558603333,0.07777266183803322,0.11978687963336809,0.0398353742778685,0.06023471086039918,0.22445920541079234,0.10600466149703743,0.13378140601607885,0.15757239400460332,0.08993893357885886,0.11892335310445301,0.15058078282780185,-0.042588401776630334,0.10319718239206518,0.13997712223093275,0.125041677349139,0.06131605404027143,0.10272722119958778,-0.0329772544908995,0.017952232247229236,0.14444144885153307,0.09436721487594604,0.13198455255216182,0.08633699116840914,0.14939140579412988,0.10173994989760217,0.08370710338704575,0.09050181167074403,0.06944503705750607,0.137706598866143,-0.008776753222366748,0.2483325205477398,0.052035346013803926,0.042165962734062444,0.1564181259643892,0.07714883240676296,0.014733275842429429,0.18264864602083242,0.0963875068732472,0.21771554361036138,0.0802139619247406,0.04699400634076236,0.09590477558346233,0.18462583307956076,0.03215511222322717,0.0893751250459161,0.17149951468611965,0.17226827072663659,0.07433624412618824,0.09344615124102586,0.08181630873520489,0.11018983193100323,0.13483265924566365,0.11869663913768673,0.020435108848728626,0.13419768547727334,0.12605049484827088,0.04852111322836071,0.14444144885153307,0.010956548692059255,0.2123076023612172,0.19765297660213677,0.20637129806734245,0.05029304427181014,0.18498177919892303,0.22207705758534124,0.22987537639382347,0.09893920960916269,0.07004724987919118,0.17010806885607174,0.13314494707805155,-0.02981693076782736,0.2533881099309069,0.1302207476774926,0.04290988692992261,0.18498177919892303,0.22207705758534124,0.1507173485223811,0.08282662709851538,0.2891935577277988,0.13324957750631702,0.0716429101941445,0.1525588823428597,0.07431622703335507,0.07079341413339867,0.12144556149859521,0.07339235889689273,0.14108865937724985,0.13387359365772936,0.12622612947656522,0.14311718006789004,0.06459559334955475,0.08666034544601342,0.04230070113636072,0.16884144166527384,0.16706532177176167,0.1525588823428597,0.21367259505818426,0.22445920541079234,0.07414800435718254,0.24664600100094725,0.025766852957451118,0.12735412166856677,0.02890762636574907,0.05127467910260552,0.10039573782525792,0.04500345156568146,0.05946075486417434,0.06131605404027143,0.125041677349139,0.06318297573882346,0.22649972582626138,0.1211110261673353,0.11697771298966737,0.040777438335326134,0.0706157537698269,0.06153720989628114,0.12090091671046763,0.013979810288130666,0.058550150883005275,-0.047390307287155896,0.07762791389021913,0.178816001729051,0.1477319209927081,-0.047390307287155896,0.2445237761650372,0.08165764917588257,0.1481034325005975,0.20735501152137145,0.22987537639382347,0.08433217242573063,0.10184300430036608,0.16398633633718365,0.08801702704178391,0.09543158183964524,0.14896210221504888,0.08524624940312873,0.17298019284114366,0.16753763439116276,0.19162597221349206,0.1421441231240078,0.09049917863576537,0.06080796983521227,0.15659154322549362,0.09199408951519202,0.1817962186206536,0.20208370274923068,0.18462583307956076,0.0770753577810424,0.12833837948469,0.1266271147642307,0.20208370274923068,0.09395123973615858,0.05650082232861633,0.13260951942465654,0.20332282677988184,0.11892221696080668,0.062251747270354714,0.02111484740149101,0.2828343552680392,0.009643237812123074,0.16018175371613122,0.17010806885607174,0.11077073247268303,0.18249248165779464,0.11591783019525455,0.20107305622077296,0.19162597221349206,0.014733275842429429,0.18650195010150733,0.10092247472626342,0.13004642742965178,0.05273247231930266,0.052779214083561704,0.1481034325005975,0.11510506876109737,0.18629095537928897,0.11935127666041923,0.12609584502744983,0.07133916684425519,0.10549315024147767,0.2500773239941375,0.10200801913133375],\"yaxis\":\"y\",\"type\":\"scattergl\"},{\"hovertemplate\":\"Category=politics<br>x=%{x}<br>y=%{y}<extra></extra>\",\"legendgroup\":\"politics\",\"marker\":{\"color\":\"#00cc96\",\"symbol\":\"circle\"},\"mode\":\"markers\",\"name\":\"politics\",\"showlegend\":true,\"x\":[0.05249169045053902,0.21047939248548667,0.10617958853374987,0.03903230808254102,0.010306408965385299,0.2105011880454407,0.16257516091219537,0.19484236896901952,0.23542847799913136,0.19348825159389021,0.15629178161099305,0.3041427218765711,0.07564086602773705,0.1802670852748363,0.1610750108422017,0.16361075443875706,0.1655429795868022,0.04630318491561811,0.12825529218535361,0.5055921001416696,0.21930200844457892,0.06333705196992155,0.29458238012427995,0.31397913040946623,0.2124049536163753,0.23873231943363682,0.38615472789127786,0.1303814661183412,0.05774068452215838,0.4792246205056972,0.1033312833635954,0.19230140565288753,0.02635940132869024,0.10668780700283668,0.45666501667306947,0.2605808740123247,0.10928420398017247,0.29752594119557435,0.03556064545809409,-0.004788112791568851,0.2528668488482597,0.45666501667306947,0.13417334539848697,0.12489379449863713,0.4971030371395069,0.027428595117261794,0.03641790320124996,0.5113093374973511,0.26753699362670186,0.19150687727725435,0.09383072760861585,0.5592166674604079,0.20332437111645493,0.03659627864847109,0.11747038637781848,0.2136220113415923,0.21316541418246573,0.1581547903718869,0.24351641213129907,0.040855465825714844,-0.002401373194414585,0.40434160755592,0.030617226874732357,0.26880904678832246,0.17691669257773388,-0.007173684047811827,0.21633894737966516,0.2590868822704735,0.25351551256453075,0.1284175824298956,0.03380463160790037,0.14596037859093655,0.4859069436163768,0.2058109209202011,0.021263924250549807,0.14246505989242908,0.33309486289630025,0.11927809883417666,0.007388573650318061,0.12450064541484436,0.2823851752857161,0.022876910062006612,0.07282930582949781,0.04916600903780005,0.12087710987050562,0.06225826240985212,0.16361075443875706,0.23402093948971767,0.22671628344890765,0.013994610225384013,0.16324671292316853,0.22729988915728355,0.10355595682700248,0.2511723975344735,0.1834878306962726,0.08068794433795026,0.13501019955785304,0.034331263620716174,0.4041507415111987,0.4623369035972109,0.10148393071577427,0.21537264048485663,0.1789940110517157,0.13856547865377855,0.02380146219599843,0.031366471255542636,0.2441338346853676,0.04527428921225588,0.4160737045544381,0.15761136650522795,-0.020735438077391942,0.047999679140963064,0.040610933003501014,0.0817564109608518,0.24999798384293048,0.06594844806314153,0.21698574245692157,0.2575634356005974,0.03233831067826391,0.20356504736224026,0.24819051341470744,0.11667781440986752,0.09580604752418868,0.09315220302052962,0.17278230109084183,0.05729836059410213,0.15892447322222925,0.10036432745591155,0.18845359393594116,0.05757745000347098,0.1727149306129063,0.04173224334225021,0.3336622986909043,0.44493379276798606,0.08861206371139206,0.05245637763318153,0.008647010839968597,0.26038580743888756,0.009245038390725286,0.34928049850254883,0.3145034705705028,0.02235034979038946,0.13901482042864124,0.2984941296639659,0.38171904687448066,0.10687898406736654,0.1093829748243671,0.1167896683748268,0.056802757716152646,0.03804371693928626,0.016271238553609783,0.1896000341183222,0.026086863322196546,0.1644283530476611,0.2074385950352723,0.0615182226375047,0.4028012159584988,0.05009213762361265,0.19973167689517843,0.2050083968121655,0.24123796035533718,0.1822838614778064,0.02480525998564918,0.16140542982546974,0.006989675497101906,0.10983474656026378,0.12442097483383695,0.06346532258868334,0.2073662775420863,0.16079834978592947,0.4184723056424793,-0.03286441459288775,0.11615700661033877,0.05333138629225774,0.1094998147530021,0.33387332885688614,0.1008637199150457,0.2650934958322125,0.2441308179564656,0.40907958245704107,0.14318761276812544,0.2575634356005974,0.39422339480817614,0.19665665855348677,0.08880104257724727,0.3061025055866555,0.24543828050828648,0.34695427591861183,0.18709298985321024,0.40161735240991286,0.09054157654727317,0.196404846652096,0.09508434246089499,0.05145906959160707,0.27602283746035494,0.027998649081780572,0.37894891596914104,0.18561897370160912,0.15676673309260508,0.027350717511951908,0.3004918059588735,0.4821647091829834,0.15996462131567843,0.13083821611857466,0.17289078251800064,0.3788487357517042,0.25359875737053306,0.013235710521035095,0.12825529218535361,0.17341877747516699,0.42733751783095536,0.1264490638642331,0.1357095494752223,0.12239279379138297,0.12687903393126765,0.030788579022832975,0.1644283530476611,0.03122791277023649,0.0501352534140983,0.4333531913760656,0.1852981701839407,0.17626940811042904,0.019173354771430836,0.15687882725329774,0.41349384368659825,0.4792246205056972,0.2613561705761609,0.1464865827939781,-0.037680233952101266,0.0919832183930704,0.06928410721149238,0.0859607205548739,0.04133594595419586,0.14899776751369506,0.10535112107725896,0.040114954682478526,0.4106180266518294,0.3359888255144985,0.5428231838823072,0.08387693803977804,0.04303260283985163,0.3787991215441011,0.2759781936664816,0.014974667926350332,0.011243086295853076,0.10854127608518771,0.12460726284385822,0.028440487298100014,0.08235206929239898,0.20038583176644645,0.44529271151323596,0.22418439849014749,0.10148393071577427,0.0422891828788386,0.13461457919539285,0.053187480731431945,0.2648369968948546,0.02380146219599843,0.2127209662699297,0.014035851994307355,0.28483414341425173,0.06417816605529535,0.06680488108468789,0.40645532654345884,0.11611770956066862,0.16411728257553113,0.1967098559409443,0.3574909562437319,0.05183798825322644,0.11490865051237154,0.10227541196523945,0.06985744209454868,0.2555543476103147,0.08745956639107492],\"xaxis\":\"x\",\"y\":[-0.060228388462221526,-0.0488343037627531,0.0261501646168878,0.005297590650706197,-0.0005089116870563863,-0.03545902022413402,-0.010109890323357101,-0.028015673274826066,-0.057201245547790644,-0.016105878737820743,-0.07674468735827214,-0.11927066986543297,0.041010091180679636,-0.04556557579723381,-0.04657945407228576,-0.006387931643495862,-0.010329689797547425,0.039045801715647185,0.014637406568012545,-0.11458303629731284,-0.047415374460240356,0.016581280413056922,-0.047790749741042284,-0.05332908504616232,-0.060940632009203,-0.06581534323237812,-0.15833439903330135,-0.002631120198462531,-0.024241245980800883,-0.1650340135399329,0.001230782738898733,-0.04146772020152226,-0.045064620450808196,-0.032896996792957184,-0.16306357899749319,-0.06191797390974786,-0.003105166062818206,-0.04824778437584427,0.059438206706285884,0.007413405357774984,-0.07958662224227042,-0.16306357899749319,-0.017066380701168216,-0.030102208497273873,-0.12511638453319696,0.01446954832057811,0.026508787819568315,-0.1486479737907211,-0.049860013454172035,-0.03204417675438648,0.015898318825165986,-0.17785216006397744,0.02119378471506412,-0.019732622500808608,0.051474863813295815,-0.05232259239995407,-0.048044366041009465,-0.02542448447911886,-0.048202847233183736,0.015740844514366588,-0.02496753534034712,-0.07325614154035619,0.022436020356748902,-0.08519556879767447,-0.01214139292982737,0.021862001793220554,-0.05402322701966338,-0.08508876783228142,-0.03733019224039559,0.011601608965637899,0.024496457849825817,-0.06425500966963167,-0.13982453419825017,-0.048746895638931954,-0.009317238042561021,-0.02754242504824661,-0.08783065054003412,-0.013494663802051967,-0.019062581034789344,-0.01820706207941018,-0.11131957599058,0.014418624402392987,-0.01011983637357002,-0.024904490347570824,-0.03362907827479637,0.004004774830579783,-0.006387931643495862,-0.059130704689946786,-0.01685356683039945,0.003600192838965135,-0.04199437432826333,-0.07101806398662397,0.0023547539498769117,-0.04410728348838938,-0.016290033009506086,-0.04907875377578348,-0.055938325998568156,-0.0031015406775752024,-0.06138318724043865,-0.09574219981178854,-0.0092165769638327,-0.0056006238913813055,-0.04056017465508064,-0.015125520528162854,0.05201083448974945,0.017062787448800434,-0.021380494388347777,0.007981028446285815,-0.06772797567827617,-0.035217898911670334,0.009297939110069712,0.017066318077841425,0.028896848644690644,0.05956300744303595,-0.023942078128127185,0.008006696370070204,-0.05914163820948521,-0.04277700634055043,0.025573457163573222,-0.06254008090592453,0.012064755977599059,0.024355243841210412,-0.006289120691484606,0.0055930228864997265,-0.044311559707892016,0.017482389643343952,0.008822502595844293,-0.005269151589909068,-0.06069353542437753,-0.015494851429798775,-0.05503021045682607,0.030643536822935274,-0.1020266886911382,-0.06147034757636117,-0.03582488934309643,0.025455440215414404,-0.014712297100555664,-0.08811350608794694,-0.03588911660484876,-0.05315960649822596,-0.05317087232070301,-0.016381509051756175,-0.06043941352250484,-0.10202113763658081,-0.12020371005697802,-0.01581254946100449,-0.02906073951088493,-0.040774253140731166,0.017121520490562224,-0.027774167777902592,-0.020967795294659634,-0.08614195774041916,0.01485651659965379,-0.06946946560150072,-0.019359482180549573,0.02080283313624,-0.06906345397700339,-0.010666695249958055,-0.03243698150000751,0.016663955187110276,-0.07080546326445687,-0.05223684840829886,0.03009046236362673,-0.036579205651228394,0.012520565055694212,-0.016424072855648703,-0.03310225167764482,0.04437517942530357,-0.034549182181885865,0.013071905197294831,-0.1561799823548262,0.0021299578757069068,-0.015682457014989867,0.0013164191603820409,0.016374657367476994,-0.05325612241751507,0.045617224542562146,-0.09913616906741629,-0.09072103578507332,-0.14727898936410938,-0.02592084307596036,-0.04277700634055043,-0.10201001713133777,-0.04639530772730854,-0.01124917363842181,-0.017449914545074195,-0.008999113689771066,-0.03289868408229673,-0.024653716163152904,-0.11410148964953576,0.03708514169202452,0.006081328418715584,0.04655199250971141,0.0020765658130160276,-0.08708353321674414,-0.0006134178822429113,-0.07980783107628865,-0.0166953436225394,-0.04055474591854461,0.037121085075606165,-0.10267631960585792,-0.1320788129875514,0.007034859723289408,0.021741174147584478,-0.021669604753320644,-0.12191537382467645,-0.07770043171351221,-0.015433244409809041,0.014637406568012545,-0.04198908878845974,-0.07828280856784176,-0.00048810744643732504,0.003584063750494218,-0.054732951154667926,0.030107372911314254,-0.014439737986149195,-0.06946946560150072,-0.01724116043548458,-0.007826449578595355,-0.06485952368869975,-0.05991391892533894,-0.051482367046192294,-0.02900922431648761,-0.02458838850559278,-0.10603858979993855,-0.1650340135399329,-0.08710933526114999,-0.05634242279245563,0.006106016713706104,-0.006895600980588821,-0.007088252194985577,-0.03758632069409743,0.015332384726118246,-0.024672882076996323,-0.027320334413347098,-0.004512612311999015,-0.10670239190781196,-0.059769191129656625,-0.17205482604525876,-0.010600367586619265,0.025960903510467703,-0.12899573724085384,-0.09235492628536056,0.0028453746939620383,0.0016796783508859882,-0.020692676320003715,-0.033210838965726866,-0.008850104915874301,-0.027688019342825013,-0.02038644644975168,-0.13818476905952787,-0.05387174992671353,-0.0092165769638327,0.03234861367436231,-0.026099779576641332,0.004815285397622485,-0.08059338550302948,0.05201083448974945,-0.045864086539118526,0.10217459739945095,-0.06781687916311883,-0.0220425801660592,-0.008830674447306064,-0.1308518479442007,0.024339262618930418,-0.0002790183329264914,-0.00036799986326617093,-0.08608506566773581,-0.03412150953723757,0.005363117462279269,-0.012489529949557147,-0.011636667559212928,-0.022590449985376102,-0.026803063818199916],\"yaxis\":\"y\",\"type\":\"scattergl\"},{\"hovertemplate\":\"Category=sport<br>x=%{x}<br>y=%{y}<extra></extra>\",\"legendgroup\":\"sport\",\"marker\":{\"color\":\"#ab63fa\",\"symbol\":\"circle\"},\"mode\":\"markers\",\"name\":\"sport\",\"showlegend\":true,\"x\":[-0.10273896655516623,-0.09939308701759221,-0.0658395285630421,-0.08943596946522778,-0.08093537539964123,-0.09956113724165977,-0.09993569866559192,-0.07034744457536188,-0.12577905734827158,-0.07856392848488843,-0.10135866694159515,-0.11092796439450649,-0.08458497030375586,-0.06386380921382687,-0.04671923214709112,-0.09860038038973523,-0.09529817979792947,-0.010136695439960125,-0.08320186609897173,-0.06051780332463963,-0.03895638981827234,-0.060050084384483296,-0.03460717820635812,-0.05533213176119758,-0.08045802467185928,-0.088639676860677,-0.032893504187845986,-0.09771738913242958,0.017385021973852336,-0.010464813062570551,-0.11418246622045077,-0.08334155431943269,-0.09717014255903597,-0.08344066748169253,-0.06571088252324989,-0.08758604313667166,-0.07347940964578398,-0.06053448183478163,-0.04610418697317615,-0.05549361402294332,-0.0920995644878973,-0.04412738058866624,-0.05019839476076074,-0.04581543337733824,-0.057964326122928664,-0.04679042955952161,-0.12468830277148611,-0.06580003298749183,-0.10854356184926701,-0.07306240772971202,-0.06299948409674913,-0.06626993096809213,-0.07149883644905197,-0.08488308578058013,-0.08317039451924108,-0.06848945387089252,-0.07381581973638017,-0.07031338579348409,-0.0752177737514351,-0.08207825748243097,-0.10661588263847174,-0.06946846940793548,-0.07717907795297106,-0.07259053504091054,-0.07125275452089208,-0.05064345255257555,-0.01907200671872584,-0.07245490437210526,-0.05373886788455452,-0.06270091601685014,-0.10374376905478959,-0.09452088998724507,-0.044255681615345564,-0.05470917365577782,-0.04358569630550182,-0.05032118701877543,-0.06270900325826169,-0.076662687591243,-0.10156182712928795,-0.029734052416491956,-0.07760857798536036,-0.06719812704841958,-0.04684671832990533,-0.06225784218074132,-0.14131465244159905,-0.05981122227617232,-0.06284293550043232,-0.04885781398333562,-0.10942936559513684,-0.08911770937294457,-0.08797221535180329,-0.0796837614271797,-0.07638689403015618,-0.05842775524287585,-0.06724702124706135,-0.055755289618421806,-0.07458156826599495,-0.10767751546605749,-0.04552060247397756,-0.09648427238492817,-0.04992095549964042,-0.11321122923101894,-0.0863277594574775,-0.08643476114778414,-0.11422713985603435,-0.04168879330314461,-0.10065302737290463,-0.049403957989303776,-0.08400993341002229,-0.10415769063492566,-0.10100224477562433,-0.08398395716741462,-0.0846914131174357,-0.0413644505102318,-0.07043818528267987,-0.04566286223194881,-0.0663768130724258,-0.0854967242656397,-0.015504524759140534,-0.0460499526420431,-0.0841865749996453,-0.08965579233665369,-0.08752057960009123,-0.11432713270005199,-0.0988835505106914,-0.06561415338649787,-0.06453109307261863,-0.041153192884512545,-0.08833107523678498,-0.09424575451844486,-0.05525359752373844,-0.08595220484874674,-0.07284613894127101,-0.08964841640453933,-0.058417652623949996,-0.09784080868488611,-0.07533404584515212,-0.026490183996344507,-0.08508825828264689,-0.09966765324568547,-0.048363914493237375,-0.06674380898178989,-0.04403886048722203,-0.0901225212348068,-0.12491226676801725,-0.05104827416553209,-0.0805597602241955,-0.11276243592844304,-0.09392040912391682,-0.06585148809530071,-0.10415769063492566,-0.07882564870963427,-0.056643182742926804,-0.08971170250991274,-0.04485125155628098,-0.06428656402750008,-0.10170854958534047,-0.07472312632570838,-0.051132739813116994,-0.06288603259508271,-0.05764961812452105,-0.0760384342991348,-0.04182061861985414,-0.057666786746737274,-0.06741346780417551,-0.036208915795495886,-0.11230803415715288,-0.09997544956407177,-0.07741560077148303,-0.04847017731108925,-0.07508638689270171,-0.04884875876077311,-0.08404152727093464,-0.07996152335021207,-0.08786821672583293,-0.0879222759419914,-0.07385366522192507,-0.06750537318201168,-0.10660952014636953,-0.12625469681845822,-0.06604477268411794,-0.0919701195342844,-0.03299308901173044,-0.12516024264273232,-0.09354593567832335,-0.08244331185498702,-0.05437077830456744,-0.07563521676352106,-0.04962217478776098,-0.06754322702486974,-0.07429557142857535,-0.06231059464630192,-0.08757945181974162,-0.09862489971403293,-0.05060906875535024,-0.09711059618865268,-0.07967610874333313,-0.0757634071891724,-0.06839521395238307,-0.02228702133081342,-0.050816463770073296,-0.06072436447969506,-0.04759495049462109,-0.07136818907495521,-0.054189001203347936,-0.05175845950056859,-0.07329398346824337,-0.03790350960938562,-0.05312869232347859,-0.10001952200931656,-0.08878764525816316,-0.06081045607461069,-0.14514560473942673,-0.10162094577174985,-0.09722335112697904,-0.047270945634950774,-0.07265029401885999,-0.07146581010524992,-0.06721047694436098,-0.04064992548254799,-0.05111193085789626,-0.041934790966765514,-0.03707937543297034,-0.07712758174320239,-0.12299685258983646,-0.071409364272373,-0.05919024000862397,-0.057512244848374146,-0.06012459746049585,-0.02228702133081342,-0.0773813313184614,-0.06481102356218826,-0.08026268585782789,-0.0867055518726312,-0.06945322975097551,-0.10570546666609791,-0.0662368948631971,-0.10783796193921429,-0.08180916007503367,-0.07883644390804785,-0.052586893889097944,-0.0755197838686792,-0.0722829333820037,-0.09411209882659767,-0.0233556632217479,-0.04526703534780192,-0.03327529940785521,-0.06316260913630894,-0.07329398346824337,-0.07406678162082958,-0.04676397401249132,-0.06874775592064733,-0.08950122255396009,-0.06250075980397185,-0.04116205006983471,-0.06298313271834212,-0.08986246589243438,-0.034513523127177474,-0.09608403583993141,-0.04901764360591625,-0.09748374688073586,-0.10699271126404694,-0.10221010986095834,-0.06070682304646611,-0.05648717293693451,-0.046370498428662935,-0.09466130640028135,-0.04261686657809565,-0.05992621932288831,-0.0641407200684016,-0.09151933738417696,-0.08174487170318279,-0.033896016694887336,-0.08895334673979964,-0.0758408772232571,-0.06658895356721517,-0.10072607996013477,-0.12286575950865572,-0.11615591299844995,-0.07742103579769834,-0.06875326880643168,-0.07944206129217733,-0.03676254855986171,-0.03635243889310864,-0.04207448092827725,-0.06837882458185912,-0.11074908872729153,-0.09166405593904188,-0.07539162161708095,-0.061611751732023705,-0.061922120870045075,-0.1045058993142807,-0.05032118701877543,-0.06880279568613644,-0.05213031150745386,-0.07203030443011614,-0.09422729418130026,-0.13205059980221054,-0.08072376220744487,-0.05353921471372413,-0.030248572384111005,-0.0762487103578441,-0.07055752782601483,-0.04560870300332263,-0.05121713093324556,-0.07941146961190988,-0.04959176985104302,-0.08276636599923277,-0.09082808924616176,-0.1170626861513566,-0.061268085238027244,-0.12263873128625433,-0.09131172841243347,-0.08854652490252016,-0.0778170995807132,-0.07625930686462974,-0.03675587674921375,-0.09712581633673542,-0.039565560596034346,-0.050497857836734446,-0.06114861768620957,-0.10768073825944274,-0.0631847469119105,-0.04848271254143108,-0.08249925617039786,-0.061444697510393026,-0.08070775426695685,-0.09624991088197729,-0.10607198868761297,-0.028943375621837596,-0.06987973805279189,-0.03857453424524914,-0.0835227156907688,-0.061611751732023705,-0.05768817636923261,-0.09117219657589126,-0.053973047291853676,-0.07590542272384618,-0.046237560696069414,-0.065173439168527,-0.04004754347650006,-0.08470170484237462,-0.13344886863968386,-0.08013960863586067,-0.07704622261298175,-0.06106716806194956],\"xaxis\":\"x\",\"y\":[-0.2158415098059417,-0.13250873791378148,-0.07448126736806852,-0.07536474031943345,-0.08017822078206581,-0.11652276979180214,-0.1069373975605186,-0.09605284460542794,-0.13187220147459722,-0.10118913564703313,-0.20091132068175313,-0.19240206820533726,-0.14198653066550815,-0.07758285764482191,-0.10570770982431436,-0.15913245446173335,-0.1147693839780507,-0.051812055105573775,-0.12563047460355928,-0.05925631811953921,-0.03602993440215346,-0.09411216900421421,-0.018629269128141102,-0.052117964621716355,-0.13334827871185512,-0.09901384958029327,-0.0457636337016443,-0.12098912101718168,-0.06783926165916737,-0.006166217978050021,-0.1711279548581147,-0.1174880324119248,-0.14255598928810473,-0.09043625857263626,-0.0791520239502969,-0.10935867215213475,-0.10918087626756759,-0.08098856233181875,-0.054297059901848826,-0.08896214115441256,-0.10010989544563326,-0.03653072190992325,-0.037832892632293794,-0.04669094988978968,-0.07822623166591887,-0.05621578981898881,-0.24560962545795503,-0.06300939709945468,-0.16153643846454335,-0.10998473091677219,-0.08353689684695349,-0.07256258563440772,-0.06369473925434964,-0.11531785507596708,-0.08046611306801034,-0.07910064873705587,-0.06538086308712426,-0.06340715487764972,-0.07342723068722024,-0.12995048896214548,-0.18946366229840256,-0.06252309486803614,-0.09329125798740445,-0.12624975341974837,-0.08598767644040922,-0.03783716957848134,-0.03532604886679018,-0.09011027514875447,-0.045388811447125164,-0.08111052862601616,-0.1896929385523773,-0.13934402384067113,-0.07032853969961611,-0.04325067425404396,-0.05660216156012435,-0.06828431903787763,-0.05923603266100283,-0.1225514777272532,-0.13481164275305216,-0.13779436184178198,-0.0786553713925209,-0.10669720950978182,-0.052378879594907474,-0.06290192539282839,-0.2414429693671051,-0.09727155951013318,-0.11362631594308363,-0.06169554510818481,-0.18877850589805248,-0.11231197803598626,-0.14586306319966924,-0.10345469797890038,-0.0664955700666011,-0.048888751604816025,-0.053419138371970064,-0.07380312678974982,-0.11095863593128452,-0.11077130295703899,-0.05333720568949433,-0.1833889095990845,-0.05421638680525851,-0.18731362609855665,-0.08445624816783864,-0.15588127848400704,-0.21292233026941595,-0.04618117150844034,-0.17265186943332733,-0.04997614571969322,-0.10117117616378997,-0.16160476095155707,-0.13832435173458593,-0.09509366502620695,-0.1494757589127548,-0.07385866521586068,-0.08108181895801311,-0.04540928739248305,-0.08527138642999472,-0.07991773348073633,-0.04441162971373588,-0.05676644097432885,-0.13168735967048328,-0.13868174027227148,-0.10040503946308078,-0.16106555069037334,-0.1491654742196044,-0.09125716715215959,-0.0633982505825568,-0.0630185024277184,-0.13301507108685262,-0.12391655432003222,-0.0648685535597451,-0.11207605186623791,-0.07557007561632303,-0.10606032471108072,-0.05691522319791431,-0.2004506411325975,-0.09252524416554067,-0.022744773319193137,-0.08427058985328281,-0.1457364610456898,-0.052434665090670095,-0.06607637617676748,-0.07706262357790354,-0.12187870649938104,-0.20595759751831627,-0.04377051807977066,-0.08004681407195728,-0.2036354318323655,-0.10428528993307083,-0.06497623941785666,-0.16160476095155707,-0.11608384891896825,-0.0439466960894464,-0.10770481097530128,-0.04292205015635504,-0.10274093352664686,-0.13541696314187934,-0.057204764601713684,-0.04509350540171859,-0.11308224600929742,-0.0501082913195957,-0.11235231637817397,-0.10355355125715916,-0.13798580422808623,-0.11077515984682648,-0.045097551961430865,-0.12779479604514737,-0.15805686179981826,-0.10795876642325346,-0.04655419286585835,-0.08973604402883123,-0.03778635591192986,-0.12527744240380542,-0.14135526239683577,-0.15495436527593903,-0.1561097618037937,-0.05103673412457021,-0.11620897211872301,-0.1835046675247525,-0.1450756260203629,-0.06360553297726822,-0.07693017186184048,-0.005182834384467019,-0.21017895486161034,-0.14699039168141528,-0.1752528810073636,-0.07069034989810839,-0.07883964766935346,-0.07861050598043647,-0.09721569441682014,-0.09430553893223392,-0.07710429442443631,-0.18297062498876515,-0.16545617154293285,-0.06141221112522712,-0.10260969453785211,-0.10853372559965102,-0.1571240164203124,-0.07773757604540103,-0.020197856030354636,-0.06864526897170142,-0.0930396768678791,-0.046129658151627825,-0.09207935363206145,-0.07395506726752255,-0.045192413242797734,-0.12352478286764551,-0.06873245861916766,-0.08790645847945483,-0.16698099371589625,-0.16614892459657774,-0.08677278698885493,-0.24410903522248906,-0.1945683067085123,-0.12121146998322277,-0.043825131561531276,-0.0844449981756081,-0.0728538698423665,-0.08940283192916712,-0.047197170886581874,-0.05422469431117054,-0.07227271580064873,-0.046127953715610036,-0.09261914564728838,-0.2007629859118909,-0.1204445969438825,-0.06206748804676259,-0.06698853174812243,-0.07534634233396396,-0.020197856030354636,-0.08389823216900838,-0.08548049046075017,-0.11698862615754228,-0.12560518591527856,-0.10007528396265537,-0.1879321474857465,-0.07755546376341069,-0.20749040516873632,-0.1341302772037106,-0.11053907063623102,-0.0573173068760217,-0.11396661419253618,-0.09580643359012724,-0.1071232881446519,-0.021457530120780485,-0.0419660035994269,-0.040133788917288145,-0.06904013249367072,-0.12352478286764551,-0.09662339305875223,-0.05623038947914043,-0.11066890466587441,-0.17643244005655317,-0.09281755738162205,-0.03682256405298184,-0.1037449065764865,-0.10060219116200021,-0.06761334435472395,-0.14604109145865599,-0.02142071429888588,-0.1282404880032969,-0.18850574537928672,-0.1649344133545254,-0.07707176444771278,-0.04938842204906549,-0.04281169162773506,-0.1237120734045424,-0.08096385788303961,-0.060857799111255564,-0.10037765208227352,-0.10791395505704798,-0.07912617490562399,-0.0394618682522316,-0.16627944889838583,-0.09698810722953885,-0.10167888200599508,-0.17793665320281804,-0.19910612387490542,-0.17904002397535637,-0.09345697511935873,-0.06332321762180108,-0.10645102550472371,-0.04980707387398422,-0.07764501246135254,-0.08518833819956166,-0.08564556177202548,-0.1287591747347944,-0.125118663712207,-0.09031792209944635,-0.09031726744261179,-0.07958821476368169,-0.18815318995078664,-0.06828431903787763,-0.10866954840635862,-0.06272063232219185,-0.1359055073764302,-0.1393649251247212,-0.20757404127362428,-0.08559878872060175,-0.04772439763764136,-0.02782929479640935,-0.09287869629366644,-0.08564030029072163,-0.034917823783132323,-0.006486204904602787,-0.08879720581232384,-0.05869619320596442,-0.12469400213719598,-0.1263334649214866,-0.18583353212945186,-0.07847398111936907,-0.22168816975699734,-0.12475631192899207,-0.13068320102308903,-0.08912847211946487,-0.06940542895004181,-0.043155140259477365,-0.14451921899460654,-0.10320412770769703,-0.025897081046009705,-0.0987248496439935,-0.18609950195222935,-0.052841141875010704,-0.03867001529872743,-0.10554074624432087,-0.06464219498398095,-0.07052357301385617,-0.14124428614873885,-0.14155801839864052,-0.10999690544233905,-0.07804170193839116,-0.024389414430476857,-0.09988776008980003,-0.09031726744261179,-0.06355785886332295,-0.08665881603193291,-0.0778606288588905,-0.11892378441491609,-0.09150054967806044,-0.09373799040490222,-0.0029826265111707103,-0.1238212461023396,-0.25340792231946796,-0.09632434786631068,-0.13096554447707623,-0.13129819087528974],\"yaxis\":\"y\",\"type\":\"scattergl\"},{\"hovertemplate\":\"Category=entertainment<br>x=%{x}<br>y=%{y}<extra></extra>\",\"legendgroup\":\"entertainment\",\"marker\":{\"color\":\"#FFA15A\",\"symbol\":\"circle\"},\"mode\":\"markers\",\"name\":\"entertainment\",\"showlegend\":true,\"x\":[-0.04156184324820676,-0.07510496235951855,-0.06830907664159118,-0.06359902609111973,-0.05982175345559608,-0.031147502633318957,-0.007700138425857703,-0.04370022069046611,-0.01935243887925575,-0.01492331789198237,-0.0771608296980691,-0.0640426395390889,-0.019148281658972387,-0.03899925766666275,-0.02510135744594566,-0.0386884032730846,-0.07039173405310424,-0.037531193366154805,-0.12561205282419438,-0.022208869293657604,-0.05089986996794894,-0.0771608296980691,-0.017152465985919622,-0.021932979095567646,-0.09365840674144989,-0.16200451888457923,-0.11491817374849336,-0.04986882767308084,-0.1039441210966119,-0.04114621025063246,-0.11821853352463436,-0.1109821408093529,-0.005031208459372744,-0.0312213214415,-0.0974987615015852,-0.027875258013432807,-0.07434646367945484,-0.15077700421085496,-0.05995470189462455,-0.029752094998007197,0.01738889892706836,-0.044158108873936605,0.04742112958625883,-0.13478157487645026,-0.03099636860784401,-0.045185022418775686,-0.06842087244066662,-0.032693655581652506,-0.054305068838991825,-0.015102131018632635,-0.056742838555389565,-0.11126719660067837,-0.057712195838508715,0.03628052273558567,-0.016287307651487212,-0.08102071083535853,-0.059657351475544206,-0.07445662737537416,-0.046096962750592566,-0.08306383768741347,-0.08630281892166997,-0.034933594252557085,-0.05409993998167124,-0.04702293366181593,-0.09314976802255609,-0.11839623406353172,-0.031118422528362572,-0.13533150352182893,-0.0577583800964932,-0.07203802042323945,-0.056378761608601904,-0.044163885322708096,-0.05576449451548759,-0.05792800278443836,0.0009119440801124125,-0.05312187266097692,-0.07933913867411999,-0.03426036581453475,-0.01511166261767645,-0.11626488666392028,-0.10132562043894787,-0.0007062173038635471,-0.04622080737207309,-0.05734579703236395,-0.04581703824486108,-0.08734946903224922,-0.031860496355053676,0.006007573115533384,-0.06089341003639166,-0.019656742651081298,-0.11695594734810091,-0.05201584153899505,-0.06360774008621274,-0.050982481925069024,-0.04338836529291954,-0.09864321447579459,-0.08376237836322176,0.00024021267004679876,-0.039809863352347846,-0.046348812984562886,-0.09414153043467918,-0.08058719876804843,-0.04152900261174393,-0.06703504171852756,-0.046882700940295605,-0.08754909948088846,0.06683640867900535,-0.026067761466124825,-0.07572248478866311,-0.03570116078237694,-0.07220621681963957,-0.11839623406353172,-0.019740438332001512,-0.03564172921928672,-0.05369569837661075,-0.03508520069082518,-0.03315590706991906,-0.05448007589510894,-0.07918094578971553,-0.0718934709876356,-0.08376237836322176,-0.04468158121524911,-0.04282840759485165,-0.06228532158538217,-0.1286803462313207,-0.06424482355680029,-0.04210128172671288,-0.0024262581748475385,-0.09906765793508339,-0.0534945992900177,-0.07387236901745453,-0.07646080083689756,-0.05175379952654936,-0.1621353513667029,-0.03957874368841206,-0.0670044627303498,-0.07668541119002156,-0.07161374175205348,-0.05925143765385865,-0.049146097201561795,-0.1122982540381365,-0.0437403206125582,-0.051955186309667056,-0.04005881253820428,-0.13680660286866894,-0.05796418168343787,-0.07933913867411999,-0.10813660927229454,-0.014614367169881298,-0.14922617583309916,-0.019797486762705825,-0.054558714713406044,-0.0906332514496268,-0.0552658338357683,-0.06124208868759011,-0.0708469408558026,-0.04701883938597741,-0.007863281350179312,-0.09759656387895525,-0.15250499982857668,0.017363599554127016,-0.012410571203594208,-0.024877648922430422,-0.03611148109559249,-0.0366545473594551,-0.0901467086383687,-0.015301377214788997,-0.06787793248160762,-0.041756729401163,-0.08060075144425807,0.0031253159791171945,-0.05833517805131832,-0.061378999311611115,-0.07928591095778087,-0.0796246678275922,-0.044158108873936605,-0.06657978826206438,-0.12609275394519406,-0.04560566331463254,-0.09506653612701306,-0.11466165596439835,-0.0608588433473147,-0.06998351825796066,-0.06423989764328,-0.06761658976619181,-0.05047777032082298,-0.09810035771136268,-0.03890605992288267,-0.021291237675580825,-0.07820891568171424,-0.0437403206125582,0.028568897373304678,-0.007700138425857703,-0.047526430324434266,-0.03378129936891809,-0.07584377892406152,-0.05426736658278101,-0.06231662883194917,-0.05118889792047552,-0.0734801507256709,-0.09104150264886422,-0.10466414020984385,-0.07167651578452786,-0.0590832305660155,-0.12170152479669942,-0.019276556681509734,-0.032999254720605525,-0.05416686880065482,-0.06057689740329438,-0.04308600241660334,-0.16269695496916178,-0.07567401030663418,-0.03216303448254595,-0.13729492578348612,-0.12075807602591783,-0.06591525903984588,-0.05408120371779071,-0.08297930947156254,-0.08600277357937104,-0.11017495641524523,-0.05868175211001449,-0.08409098129165711,-0.11553402257895208,-0.08010979069023128,-0.03756611320672763,-0.06525620079367386,-0.08665018236587219,-0.15250499982857668,-0.031088165590459786,-0.06652730045604129,-0.0008585262554439138,-0.0914549402424921,-0.06824304367265553,-0.043256393195669124,-0.034051161400810256,-0.016132072062570012,-0.10544245166164073,-0.10076337631051153,-0.058542019442712284,0.01234646312723164,-0.05604113317240683,-0.08680531082753552,-0.0480819477431697,-0.12817814482425519,-0.01932992482564032,-0.0740038193319029,-0.0890262638112552,0.002382949587112335,-0.05389539229431009,-0.07480572541250761,-0.05433184542016977,-0.08612584610481869,-0.06605732729097674,-0.1739916945715901,-0.0808396965567213,-0.046057847983816104,-0.0483693127924344,-0.04635604149705916,-0.016541621014510205,-0.16062982610273113,-0.0718934709876356,-0.07445662737537416,-0.07814802232307716,-0.04259234969374604,-0.05114648754147062,-0.08346359504269658,-0.03962506805828251,-0.06490656269396956,-0.010466535382234987,-0.05797447959646283,-0.015054103376176804,-0.03839164097831309,-0.06527835712097103],\"xaxis\":\"x\",\"y\":[-0.08014789327100379,-0.02164616118137156,0.05060888627459251,0.0021355564590831004,-0.04809111168967265,0.014324837879458076,-0.049152253609449414,-0.026974017368218278,0.003625033945690424,0.012271669031958683,0.004940985093627587,-0.026959367536863038,0.017954039165426185,-0.02979610407408823,0.00793104910403691,0.007678651406222249,-0.014290574002450249,0.0037886352983040428,-0.1241838182546597,0.09363482373024007,-0.029640888781198853,0.004940985093627587,0.020910683250389847,0.00837885877978304,-0.02769063741627459,-0.16524331012445057,-0.1003730004965077,0.05245774400447719,-0.08862605046430587,0.013947303514374102,-0.11503344098766735,-0.08661278389902231,-0.040031246858980456,-0.01688832806717482,-0.0780392820340871,-6.382562022270771e-05,-0.01469983452107873,-0.17434474313138246,-0.05445382624324398,-0.023610527829598146,-0.0037839115177214708,-0.011302541298566159,0.050131623687246225,-0.11371613758632729,-0.008209862519755069,-0.03460120182552836,-0.0584900805642355,0.03428744539918203,0.008850704258287486,-0.038086056489526954,0.013265547906398495,-0.12739089135575976,-0.03416731614009409,-0.014194582845984014,0.005700491900906483,-0.02117581026963559,-0.03214119345037686,-0.060990345934367675,-0.010015811094814963,-0.0958437967222127,-0.0815710341109738,-0.031404099814553756,-0.0616366937961116,0.003997546973067577,-0.09627383356307477,-0.0797072125999793,-0.039179104643938846,-0.10329315289767348,-0.018372695859909638,-0.029603972396002626,-0.028516599789669153,-0.01565155373587136,0.06980386490654135,-0.01684480962236222,0.005784301667317294,0.007694796658692478,-0.03762579768198431,-0.006529983354101587,0.07950729792807092,-0.11513640155774499,-0.07427380306707404,0.03799284900521812,-0.007946925871312082,-0.01601769331217417,-0.033014401510879754,-0.04499498892399248,0.0012858500694058962,0.0009398431974575331,-0.015541639116129324,-0.014936914167032826,-0.13081718800624062,0.014851329479309117,0.1663750648975598,-0.0044763870229982405,-0.05261369563448268,-0.06113424179325345,0.11055934427985005,0.000839123986236241,-0.01941497953238797,0.008803747895111813,-0.09145151145508416,-0.02953504636719969,-0.019458876713972187,-0.04094113793015131,-0.012584835495295018,-0.05467514331375764,-0.036881700303770235,0.021900002344945223,-0.06298296480752781,0.015181671423314176,-0.03259579197073203,-0.0797072125999793,-0.04626849982411564,0.01569966426872537,-0.027992074327266935,-0.026288834194777316,-0.002740202310044788,-0.009808564803232566,-0.08281108509384814,-0.11458890449712872,0.11055934427985005,-0.018370395050706777,-0.0063919935016133215,-0.009342447962765291,-0.1603326366868092,-0.040736985690696975,0.007893755371847493,0.032646929494011885,-0.03633504130823613,-0.01851669808367433,-0.029275940529311765,-0.013310437428946116,0.0011207904025613078,-0.16491116643412007,-0.02717511976679835,-0.02033113934369397,-0.061646681664202244,-0.04158266012816214,-0.03636808030114265,0.03896069439486713,-0.0874726814257404,-0.0436563779483418,-0.04794199185757505,-0.03219814005334564,-0.11577112608658244,-0.003313047374489991,-0.03762579768198431,-0.09949919354340042,0.030932695365870677,-0.16529755059661372,-0.00578195894990098,-0.013725478664775045,-0.03940972151834095,-0.04031139510490191,-0.06825188726597337,0.006902661827685673,-0.028409274012780403,0.04821736923040473,-0.0008638441781759779,-0.08460130501681605,-0.01659158683629039,0.003564754298730705,-0.007882143213149834,0.008599545221044553,0.023659891648138736,-0.0010234990621538658,0.025501716174770615,-0.029299158339272397,-0.005235636437866236,-0.04973167571537053,0.020533286278211254,-0.01570855696634491,-0.04595407820870815,0.03401883423109278,-0.0262367467901023,-0.011302541298566159,0.003307056245449475,-0.08344610013824401,0.030065878848613132,-0.062415569193373,-0.10395537610157529,-0.013045917604488111,-0.06174400907511065,-0.04590529913467203,-0.011244090309191915,0.0042731641619957504,-0.05874652235554783,-0.0032245614563105964,-0.02889506083096167,-0.08444383271921121,-0.0436563779483418,0.07476334889922458,-0.049152253609449414,-0.014361140077918288,-0.0069157171628618985,0.0069859899881130946,-0.03770638897685023,0.00035273272202727073,-0.026234418744547093,-0.050513471686269025,-0.044860549224946346,-0.0963494666897441,-0.008052332668057709,-0.02033775584536715,-0.13705414749813305,0.004729456971646586,0.025272333160516323,-0.007075443465823224,-0.025709533612234593,0.013525663518057143,-0.15842980557085787,-0.04492427207696757,-0.004515909258271347,-0.14193988788591033,-0.1014600826689839,-0.0522176745569828,-0.05721768725457988,-0.006716580776976307,-0.043678188218275384,-0.09069807243673775,-0.02991556737462012,-0.022943660038827175,-0.1477469783706527,-0.07660430656824091,-0.011581982964007049,-0.047150375647935595,-0.055373870371144454,-0.08460130501681605,-0.027083424164759097,-0.0009511890727948598,-0.009544740521093267,-0.09383612066320085,0.04600089615270259,-0.052221867418863366,-0.02335491350633588,0.0011317108213791944,-0.11764910860930183,-0.03909734465738955,-0.01039866847721428,0.012451846001657822,-0.006437002835228144,-0.049248987847172576,-0.002889605771148412,-0.11869741652784191,0.011849743235411733,-0.039889712240639696,-0.05753498856717802,0.03517349115683525,-0.025552704663821226,-0.011531363093737012,-0.015252134423534989,-0.05239147192503979,-0.043891827062478385,-0.1626639377818465,-0.028416899582372656,-0.03687922782979502,-0.02469722118187066,-0.041251623448252506,-0.0232968798553554,-0.1496854342855162,-0.11458890449712872,-0.060990345934367675,-0.0229122443480124,-0.011900103190711466,-0.0027684932545997167,-0.02615491203129421,-0.008037030959281474,-0.017553625609554063,-0.0216136090993574,-0.0275901081088816,0.008976498626800947,-0.03339596110253614,0.03647444717485875],\"yaxis\":\"y\",\"type\":\"scattergl\"}],                        {\"template\":{\"data\":{\"bar\":[{\"error_x\":{\"color\":\"#2a3f5f\"},\"error_y\":{\"color\":\"#2a3f5f\"},\"marker\":{\"line\":{\"color\":\"#E5ECF6\",\"width\":0.5},\"pattern\":{\"fillmode\":\"overlay\",\"size\":10,\"solidity\":0.2}},\"type\":\"bar\"}],\"barpolar\":[{\"marker\":{\"line\":{\"color\":\"#E5ECF6\",\"width\":0.5},\"pattern\":{\"fillmode\":\"overlay\",\"size\":10,\"solidity\":0.2}},\"type\":\"barpolar\"}],\"carpet\":[{\"aaxis\":{\"endlinecolor\":\"#2a3f5f\",\"gridcolor\":\"white\",\"linecolor\":\"white\",\"minorgridcolor\":\"white\",\"startlinecolor\":\"#2a3f5f\"},\"baxis\":{\"endlinecolor\":\"#2a3f5f\",\"gridcolor\":\"white\",\"linecolor\":\"white\",\"minorgridcolor\":\"white\",\"startlinecolor\":\"#2a3f5f\"},\"type\":\"carpet\"}],\"choropleth\":[{\"colorbar\":{\"outlinewidth\":0,\"ticks\":\"\"},\"type\":\"choropleth\"}],\"contour\":[{\"colorbar\":{\"outlinewidth\":0,\"ticks\":\"\"},\"colorscale\":[[0.0,\"#0d0887\"],[0.1111111111111111,\"#46039f\"],[0.2222222222222222,\"#7201a8\"],[0.3333333333333333,\"#9c179e\"],[0.4444444444444444,\"#bd3786\"],[0.5555555555555556,\"#d8576b\"],[0.6666666666666666,\"#ed7953\"],[0.7777777777777778,\"#fb9f3a\"],[0.8888888888888888,\"#fdca26\"],[1.0,\"#f0f921\"]],\"type\":\"contour\"}],\"contourcarpet\":[{\"colorbar\":{\"outlinewidth\":0,\"ticks\":\"\"},\"type\":\"contourcarpet\"}],\"heatmap\":[{\"colorbar\":{\"outlinewidth\":0,\"ticks\":\"\"},\"colorscale\":[[0.0,\"#0d0887\"],[0.1111111111111111,\"#46039f\"],[0.2222222222222222,\"#7201a8\"],[0.3333333333333333,\"#9c179e\"],[0.4444444444444444,\"#bd3786\"],[0.5555555555555556,\"#d8576b\"],[0.6666666666666666,\"#ed7953\"],[0.7777777777777778,\"#fb9f3a\"],[0.8888888888888888,\"#fdca26\"],[1.0,\"#f0f921\"]],\"type\":\"heatmap\"}],\"heatmapgl\":[{\"colorbar\":{\"outlinewidth\":0,\"ticks\":\"\"},\"colorscale\":[[0.0,\"#0d0887\"],[0.1111111111111111,\"#46039f\"],[0.2222222222222222,\"#7201a8\"],[0.3333333333333333,\"#9c179e\"],[0.4444444444444444,\"#bd3786\"],[0.5555555555555556,\"#d8576b\"],[0.6666666666666666,\"#ed7953\"],[0.7777777777777778,\"#fb9f3a\"],[0.8888888888888888,\"#fdca26\"],[1.0,\"#f0f921\"]],\"type\":\"heatmapgl\"}],\"histogram\":[{\"marker\":{\"pattern\":{\"fillmode\":\"overlay\",\"size\":10,\"solidity\":0.2}},\"type\":\"histogram\"}],\"histogram2d\":[{\"colorbar\":{\"outlinewidth\":0,\"ticks\":\"\"},\"colorscale\":[[0.0,\"#0d0887\"],[0.1111111111111111,\"#46039f\"],[0.2222222222222222,\"#7201a8\"],[0.3333333333333333,\"#9c179e\"],[0.4444444444444444,\"#bd3786\"],[0.5555555555555556,\"#d8576b\"],[0.6666666666666666,\"#ed7953\"],[0.7777777777777778,\"#fb9f3a\"],[0.8888888888888888,\"#fdca26\"],[1.0,\"#f0f921\"]],\"type\":\"histogram2d\"}],\"histogram2dcontour\":[{\"colorbar\":{\"outlinewidth\":0,\"ticks\":\"\"},\"colorscale\":[[0.0,\"#0d0887\"],[0.1111111111111111,\"#46039f\"],[0.2222222222222222,\"#7201a8\"],[0.3333333333333333,\"#9c179e\"],[0.4444444444444444,\"#bd3786\"],[0.5555555555555556,\"#d8576b\"],[0.6666666666666666,\"#ed7953\"],[0.7777777777777778,\"#fb9f3a\"],[0.8888888888888888,\"#fdca26\"],[1.0,\"#f0f921\"]],\"type\":\"histogram2dcontour\"}],\"mesh3d\":[{\"colorbar\":{\"outlinewidth\":0,\"ticks\":\"\"},\"type\":\"mesh3d\"}],\"parcoords\":[{\"line\":{\"colorbar\":{\"outlinewidth\":0,\"ticks\":\"\"}},\"type\":\"parcoords\"}],\"pie\":[{\"automargin\":true,\"type\":\"pie\"}],\"scatter\":[{\"marker\":{\"colorbar\":{\"outlinewidth\":0,\"ticks\":\"\"}},\"type\":\"scatter\"}],\"scatter3d\":[{\"line\":{\"colorbar\":{\"outlinewidth\":0,\"ticks\":\"\"}},\"marker\":{\"colorbar\":{\"outlinewidth\":0,\"ticks\":\"\"}},\"type\":\"scatter3d\"}],\"scattercarpet\":[{\"marker\":{\"colorbar\":{\"outlinewidth\":0,\"ticks\":\"\"}},\"type\":\"scattercarpet\"}],\"scattergeo\":[{\"marker\":{\"colorbar\":{\"outlinewidth\":0,\"ticks\":\"\"}},\"type\":\"scattergeo\"}],\"scattergl\":[{\"marker\":{\"colorbar\":{\"outlinewidth\":0,\"ticks\":\"\"}},\"type\":\"scattergl\"}],\"scattermapbox\":[{\"marker\":{\"colorbar\":{\"outlinewidth\":0,\"ticks\":\"\"}},\"type\":\"scattermapbox\"}],\"scatterpolar\":[{\"marker\":{\"colorbar\":{\"outlinewidth\":0,\"ticks\":\"\"}},\"type\":\"scatterpolar\"}],\"scatterpolargl\":[{\"marker\":{\"colorbar\":{\"outlinewidth\":0,\"ticks\":\"\"}},\"type\":\"scatterpolargl\"}],\"scatterternary\":[{\"marker\":{\"colorbar\":{\"outlinewidth\":0,\"ticks\":\"\"}},\"type\":\"scatterternary\"}],\"surface\":[{\"colorbar\":{\"outlinewidth\":0,\"ticks\":\"\"},\"colorscale\":[[0.0,\"#0d0887\"],[0.1111111111111111,\"#46039f\"],[0.2222222222222222,\"#7201a8\"],[0.3333333333333333,\"#9c179e\"],[0.4444444444444444,\"#bd3786\"],[0.5555555555555556,\"#d8576b\"],[0.6666666666666666,\"#ed7953\"],[0.7777777777777778,\"#fb9f3a\"],[0.8888888888888888,\"#fdca26\"],[1.0,\"#f0f921\"]],\"type\":\"surface\"}],\"table\":[{\"cells\":{\"fill\":{\"color\":\"#EBF0F8\"},\"line\":{\"color\":\"white\"}},\"header\":{\"fill\":{\"color\":\"#C8D4E3\"},\"line\":{\"color\":\"white\"}},\"type\":\"table\"}]},\"layout\":{\"annotationdefaults\":{\"arrowcolor\":\"#2a3f5f\",\"arrowhead\":0,\"arrowwidth\":1},\"autotypenumbers\":\"strict\",\"coloraxis\":{\"colorbar\":{\"outlinewidth\":0,\"ticks\":\"\"}},\"colorscale\":{\"diverging\":[[0,\"#8e0152\"],[0.1,\"#c51b7d\"],[0.2,\"#de77ae\"],[0.3,\"#f1b6da\"],[0.4,\"#fde0ef\"],[0.5,\"#f7f7f7\"],[0.6,\"#e6f5d0\"],[0.7,\"#b8e186\"],[0.8,\"#7fbc41\"],[0.9,\"#4d9221\"],[1,\"#276419\"]],\"sequential\":[[0.0,\"#0d0887\"],[0.1111111111111111,\"#46039f\"],[0.2222222222222222,\"#7201a8\"],[0.3333333333333333,\"#9c179e\"],[0.4444444444444444,\"#bd3786\"],[0.5555555555555556,\"#d8576b\"],[0.6666666666666666,\"#ed7953\"],[0.7777777777777778,\"#fb9f3a\"],[0.8888888888888888,\"#fdca26\"],[1.0,\"#f0f921\"]],\"sequentialminus\":[[0.0,\"#0d0887\"],[0.1111111111111111,\"#46039f\"],[0.2222222222222222,\"#7201a8\"],[0.3333333333333333,\"#9c179e\"],[0.4444444444444444,\"#bd3786\"],[0.5555555555555556,\"#d8576b\"],[0.6666666666666666,\"#ed7953\"],[0.7777777777777778,\"#fb9f3a\"],[0.8888888888888888,\"#fdca26\"],[1.0,\"#f0f921\"]]},\"colorway\":[\"#636efa\",\"#EF553B\",\"#00cc96\",\"#ab63fa\",\"#FFA15A\",\"#19d3f3\",\"#FF6692\",\"#B6E880\",\"#FF97FF\",\"#FECB52\"],\"font\":{\"color\":\"#2a3f5f\"},\"geo\":{\"bgcolor\":\"white\",\"lakecolor\":\"white\",\"landcolor\":\"#E5ECF6\",\"showlakes\":true,\"showland\":true,\"subunitcolor\":\"white\"},\"hoverlabel\":{\"align\":\"left\"},\"hovermode\":\"closest\",\"mapbox\":{\"style\":\"light\"},\"paper_bgcolor\":\"white\",\"plot_bgcolor\":\"#E5ECF6\",\"polar\":{\"angularaxis\":{\"gridcolor\":\"white\",\"linecolor\":\"white\",\"ticks\":\"\"},\"bgcolor\":\"#E5ECF6\",\"radialaxis\":{\"gridcolor\":\"white\",\"linecolor\":\"white\",\"ticks\":\"\"}},\"scene\":{\"xaxis\":{\"backgroundcolor\":\"#E5ECF6\",\"gridcolor\":\"white\",\"gridwidth\":2,\"linecolor\":\"white\",\"showbackground\":true,\"ticks\":\"\",\"zerolinecolor\":\"white\"},\"yaxis\":{\"backgroundcolor\":\"#E5ECF6\",\"gridcolor\":\"white\",\"gridwidth\":2,\"linecolor\":\"white\",\"showbackground\":true,\"ticks\":\"\",\"zerolinecolor\":\"white\"},\"zaxis\":{\"backgroundcolor\":\"#E5ECF6\",\"gridcolor\":\"white\",\"gridwidth\":2,\"linecolor\":\"white\",\"showbackground\":true,\"ticks\":\"\",\"zerolinecolor\":\"white\"}},\"shapedefaults\":{\"line\":{\"color\":\"#2a3f5f\"}},\"ternary\":{\"aaxis\":{\"gridcolor\":\"white\",\"linecolor\":\"white\",\"ticks\":\"\"},\"baxis\":{\"gridcolor\":\"white\",\"linecolor\":\"white\",\"ticks\":\"\"},\"bgcolor\":\"#E5ECF6\",\"caxis\":{\"gridcolor\":\"white\",\"linecolor\":\"white\",\"ticks\":\"\"}},\"title\":{\"x\":0.05},\"xaxis\":{\"automargin\":true,\"gridcolor\":\"white\",\"linecolor\":\"white\",\"ticks\":\"\",\"title\":{\"standoff\":15},\"zerolinecolor\":\"white\",\"zerolinewidth\":2},\"yaxis\":{\"automargin\":true,\"gridcolor\":\"white\",\"linecolor\":\"white\",\"ticks\":\"\",\"title\":{\"standoff\":15},\"zerolinecolor\":\"white\",\"zerolinewidth\":2}}},\"xaxis\":{\"anchor\":\"y\",\"domain\":[0.0,1.0],\"title\":{\"text\":\"x\"}},\"yaxis\":{\"anchor\":\"x\",\"domain\":[0.0,1.0],\"title\":{\"text\":\"y\"}},\"legend\":{\"title\":{\"text\":\"Category\"},\"tracegroupgap\":0},\"margin\":{\"t\":60}},                        {\"responsive\": true}                    ).then(function(){\n",
              "                            \n",
              "var gd = document.getElementById('4d7af682-e3bf-48a0-9285-387d46dc7f42');\n",
              "var x = new MutationObserver(function (mutations, observer) {{\n",
              "        var display = window.getComputedStyle(gd).display;\n",
              "        if (!display || display === 'none') {{\n",
              "            console.log([gd, 'removed!']);\n",
              "            Plotly.purge(gd);\n",
              "            observer.disconnect();\n",
              "        }}\n",
              "}});\n",
              "\n",
              "// Listen for the removal of the full notebook cells\n",
              "var notebookContainer = gd.closest('#notebook-container');\n",
              "if (notebookContainer) {{\n",
              "    x.observe(notebookContainer, {childList: true});\n",
              "}}\n",
              "\n",
              "// Listen for the clearing of the current output cell\n",
              "var outputEl = gd.closest('.output');\n",
              "if (outputEl) {{\n",
              "    x.observe(outputEl, {childList: true});\n",
              "}}\n",
              "\n",
              "                        })                };                            </script>        </div>\n",
              "</body>\n",
              "</html>"
            ]
          },
          "metadata": {}
        }
      ]
    }
  ]
}